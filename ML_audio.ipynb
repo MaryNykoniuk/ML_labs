{
  "nbformat": 4,
  "nbformat_minor": 0,
  "metadata": {
    "colab": {
      "provenance": []
    },
    "kernelspec": {
      "name": "python3",
      "display_name": "Python 3"
    },
    "language_info": {
      "name": "python"
    }
  },
  "cells": [
    {
      "cell_type": "code",
      "execution_count": 14,
      "metadata": {
        "id": "D5Iw5PuR2eP7"
      },
      "outputs": [],
      "source": [
        "import numpy as np\n",
        "import pandas as pd\n",
        "import wave\n",
        "import librosa\n",
        "import matplotlib.pyplot as plt\n",
        "from sklearn.metrics import confusion_matrix\n",
        "from sklearn.metrics import accuracy_score\n",
        "from keras.utils import to_categorical\n",
        "from tensorflow.keras.models import Sequential\n",
        "from tensorflow.keras.layers import Conv2D, MaxPooling2D, Dense, Flatten, Dropout\n",
        "from tensorflow.keras.optimizers import Adam, Adadelta\n",
        "from sklearn.metrics import classification_report, confusion_matrix, precision_score, recall_score, f1_score, mean_absolute_error, mean_squared_error"
      ]
    },
    {
      "cell_type": "code",
      "source": [
        "prefix = 'data/'\n",
        "\n",
        "train_split_df = pd.read_csv(prefix+'train_split_Depression_AVEC2017.csv')\n",
        "test_split_df = pd.read_csv(prefix+'dev_split_Depression_AVEC2017.csv')\n",
        "train_split_num = train_split_df[['Participant_ID']]['Participant_ID'].tolist()\n",
        "test_split_num = test_split_df[['Participant_ID']]['Participant_ID'].tolist()\n",
        "train_split_clabel = train_split_df[['PHQ8_Score']]['PHQ8_Score'].tolist()\n",
        "test_split_clabel = test_split_df[['PHQ8_Score']]['PHQ8_Score'].tolist()"
      ],
      "metadata": {
        "id": "CD7FYe7P9v8q"
      },
      "execution_count": null,
      "outputs": []
    },
    {
      "cell_type": "code",
      "source": [
        "def extract_features(number, audio_features, target, audio_targets, mode):\n",
        "    transcript = pd.read_csv(prefix+'{0}_P/{0}_TRANSCRIPT.csv'.format(number), sep='\\t').fillna('')\n",
        "\n",
        "    wavefile = wave.open(prefix+'{0}_P/{0}_AUDIO.wav'.format(number, 'r'))\n",
        "    sr = wavefile.getframerate()\n",
        "    nframes = wavefile.getnframes()\n",
        "    wave_data = np.frombuffer(wavefile.readframes(nframes), dtype=np.short)\n",
        "\n",
        "    time_range = []\n",
        "    response = ''\n",
        "    response_flag = False\n",
        "    time_collect_flag = False\n",
        "    start_time = 0\n",
        "    stop_time = 0\n",
        "\n",
        "    signal = []\n",
        "\n",
        "    global counter_train\n",
        "\n",
        "    for t in transcript.itertuples():\n",
        "        if getattr(t,'speaker') == 'Ellie':\n",
        "            continue\n",
        "        elif getattr(t,'speaker') == 'Participant':\n",
        "            if 'scrubbed_entry' in getattr(t,'value'):\n",
        "                continue\n",
        "            start_time = int(getattr(t,'start_time')*sr)\n",
        "            stop_time = int(getattr(t,'stop_time')*sr)\n",
        "            signal = np.hstack((signal, wave_data[start_time:stop_time].astype(np.float)))\n",
        "\n",
        "    clip = sr*1*15\n",
        "    if target >= 10 and mode == 'train':\n",
        "        times = 3 if counter_train < 48 else 2\n",
        "        for i in range(times):\n",
        "            if clip*(i+1) > len(signal):\n",
        "                continue\n",
        "            melspec = librosa.feature.melspectrogram(y=signal[clip*i:clip*(i+1)], n_mels=80,sr=sr)\n",
        "            logspec = melspec\n",
        "            audio_features.append(logspec)\n",
        "            audio_targets.append(target)\n",
        "            counter_train+=1\n",
        "    else:\n",
        "        melspec = librosa.feature.melspectrogram(y=signal[:clip], n_mels=80, sr=sr)\n",
        "        logspec = melspec\n",
        "        audio_features.append(logspec)\n",
        "        audio_targets.append(target)\n",
        "    print('{}_P feature done'.format(number))"
      ],
      "metadata": {
        "id": "41M8-2pV908i"
      },
      "execution_count": null,
      "outputs": []
    },
    {
      "cell_type": "code",
      "source": [
        "audio_features_train = []\n",
        "audio_ctargets_train = []\n",
        "\n",
        "audio_features_test = []\n",
        "audio_ctargets_test = []\n",
        "\n",
        "for index in range(len(train_split_num)):\n",
        "    extract_features(train_split_num[index], audio_features_train, train_split_clabel[index], audio_ctargets_train, 'train')\n",
        "\n",
        "for index in range(len(test_split_num)):\n",
        "    extract_features(test_split_num[index], audio_features_test, test_split_clabel[index], audio_ctargets_test, 'test')\n",
        "\n",
        "print(np.shape(audio_ctargets_train), np.shape(audio_ctargets_test))"
      ],
      "metadata": {
        "id": "Yo7MhrZK95Qm"
      },
      "execution_count": null,
      "outputs": []
    },
    {
      "cell_type": "code",
      "source": [
        "np.savez('train_samples_cla.npz', audio_features_train)\n",
        "np.savez('test_samples_cla.npz', audio_features_test)\n",
        "np.savez('train_labels_cla.npz', audio_ctargets_train)\n",
        "np.savez('test_labels_cla.npz', audio_ctargets_test)"
      ],
      "metadata": {
        "id": "9Fy7oWba-Fyx"
      },
      "execution_count": null,
      "outputs": []
    },
    {
      "cell_type": "code",
      "source": [
        "features_train = np.load('train_samples_cla.npz', allow_pickle=True)['arr_0']\n",
        "features_test = np.load('test_samples_cla.npz', allow_pickle=True)['arr_0']\n",
        "targets_train = np.load('train_labels_cla.npz', allow_pickle=True)['arr_0']\n",
        "ctargets_test = np.load('test_labels_cla.npz', allow_pickle=True)['arr_0']"
      ],
      "metadata": {
        "id": "FyxhPouo2r85"
      },
      "execution_count": 7,
      "outputs": []
    },
    {
      "cell_type": "code",
      "source": [
        "X_train = np.array(features_train)\n",
        "Y_train = np.array(targets_train)\n",
        "X_test = np.array(features_test)\n",
        "Y_test = np.array(ctargets_test)"
      ],
      "metadata": {
        "id": "hS2aJAHEHPBA"
      },
      "execution_count": 8,
      "outputs": []
    },
    {
      "cell_type": "code",
      "source": [
        "X_train = np.array([(X - X.min()) / (X.max() - X.min()) for X in X_train])\n",
        "X_test = np.array([(X - X.min()) / (X.max() - X.min()) for X in X_test])"
      ],
      "metadata": {
        "id": "3ypDq9Ub-ct7"
      },
      "execution_count": 9,
      "outputs": []
    },
    {
      "cell_type": "code",
      "source": [
        "X_train = X_train.astype('float32')\n",
        "X_test = X_test.astype('float32')"
      ],
      "metadata": {
        "id": "Y5ereZbZL1GN"
      },
      "execution_count": 10,
      "outputs": []
    },
    {
      "cell_type": "code",
      "source": [
        "Y_train = Y_train.astype('float32')\n",
        "Y_test = Y_test.astype('float32')"
      ],
      "metadata": {
        "id": "XZecLr-HUTu_"
      },
      "execution_count": 11,
      "outputs": []
    },
    {
      "cell_type": "code",
      "source": [
        "print(X_train.shape)\n",
        "print(Y_train.shape)\n",
        "print(X_test.shape)\n",
        "print(Y_test.shape)"
      ],
      "metadata": {
        "colab": {
          "base_uri": "https://localhost:8080/"
        },
        "id": "lXkFvASKUqDv",
        "outputId": "54c44c13-6d49-4ff7-c3b5-c92585303436"
      },
      "execution_count": 12,
      "outputs": [
        {
          "output_type": "stream",
          "name": "stdout",
          "text": [
            "(153, 80, 469)\n",
            "(153,)\n",
            "(35, 80, 469)\n",
            "(35,)\n"
          ]
        }
      ]
    },
    {
      "cell_type": "code",
      "source": [
        "train_y = to_categorical(Y_train)\n",
        "test_y = to_categorical(Y_test)"
      ],
      "metadata": {
        "id": "5gmC0dQAmrfk"
      },
      "execution_count": 13,
      "outputs": []
    },
    {
      "cell_type": "code",
      "source": [
        "input_shape = (80, 469, 1)\n",
        "\n",
        "model = Sequential()\n",
        "model.add(Conv2D(32, (1, 7), activation='relu', input_shape=input_shape))\n",
        "model.add(MaxPooling2D(pool_size=(4, 3), strides=(1, 3)))\n",
        "model.add(Conv2D(32, (1, 7), activation='relu'))\n",
        "model.add(MaxPooling2D(pool_size=(1, 3), strides=(1, 3)))\n",
        "model.add(Flatten())\n",
        "model.add(Dense(128, activation='relu'))\n",
        "model.add(Dense(128, activation='relu'))\n",
        "model.add(Dropout(0.5))\n",
        "model.add(Dense(2, activation='softmax'))\n",
        "\n",
        "model.compile(optimizer=Adadelta(learning_rate=1), loss='categorical_crossentropy', metrics=['accuracy'])"
      ],
      "metadata": {
        "id": "mLwUFprH80Nz"
      },
      "execution_count": 26,
      "outputs": []
    },
    {
      "cell_type": "code",
      "source": [
        "model.summary()"
      ],
      "metadata": {
        "colab": {
          "base_uri": "https://localhost:8080/"
        },
        "id": "uenCEIbj81g9",
        "outputId": "11a9485c-80f6-4475-b524-27d36cb2be70"
      },
      "execution_count": 3,
      "outputs": [
        {
          "output_type": "stream",
          "name": "stdout",
          "text": [
            "Model: \"sequential\"\n",
            "_________________________________________________________________\n",
            " Layer (type)                Output Shape              Param #   \n",
            "=================================================================\n",
            " conv2d (Conv2D)             (None, 80, 463, 32)       256       \n",
            "                                                                 \n",
            " max_pooling2d (MaxPooling2  (None, 77, 154, 32)       0         \n",
            " D)                                                              \n",
            "                                                                 \n",
            " conv2d_1 (Conv2D)           (None, 77, 148, 32)       7200      \n",
            "                                                                 \n",
            " max_pooling2d_1 (MaxPoolin  (None, 77, 49, 32)        0         \n",
            " g2D)                                                            \n",
            "                                                                 \n",
            " flatten (Flatten)           (None, 120736)            0         \n",
            "                                                                 \n",
            " dense (Dense)               (None, 128)               15454336  \n",
            "                                                                 \n",
            " dense_1 (Dense)             (None, 128)               16512     \n",
            "                                                                 \n",
            " dropout (Dropout)           (None, 128)               0         \n",
            "                                                                 \n",
            " dense_2 (Dense)             (None, 2)                 258       \n",
            "                                                                 \n",
            "=================================================================\n",
            "Total params: 15478562 (59.05 MB)\n",
            "Trainable params: 15478562 (59.05 MB)\n",
            "Non-trainable params: 0 (0.00 Byte)\n",
            "_________________________________________________________________\n"
          ]
        }
      ]
    },
    {
      "cell_type": "code",
      "source": [
        "model.fit(X_train, train_y, epochs=30, batch_size=4)\n",
        "\n",
        "loss, accuracy = model.evaluate(X_test, test_y)\n",
        "print(f\"Test Loss: {loss}, Test Accuracy: {accuracy}\")"
      ],
      "metadata": {
        "id": "jGZv5jpIcS0S"
      },
      "execution_count": null,
      "outputs": []
    },
    {
      "cell_type": "code",
      "source": [
        "y_pred = model.predict(X_test)\n",
        "predicted_1 = [1 if x[1] > x[0] else 0 for x in y_pred]\n",
        "print(classification_report(Y_test, predicted_1))"
      ],
      "metadata": {
        "colab": {
          "base_uri": "https://localhost:8080/"
        },
        "id": "7yPXGkLmPu4s",
        "outputId": "31c59fb7-5276-4574-c0ef-a373f01c3bdc"
      },
      "execution_count": 19,
      "outputs": [
        {
          "output_type": "stream",
          "name": "stdout",
          "text": [
            "2/2 [==============================] - 1s 84ms/step\n",
            "              precision    recall  f1-score   support\n",
            "\n",
            "         0.0       0.95      0.78      0.86        23\n",
            "         1.0       0.69      0.92      0.79        12\n",
            "\n",
            "    accuracy                           0.83        35\n",
            "   macro avg       0.82      0.85      0.82        35\n",
            "weighted avg       0.86      0.83      0.83        35\n",
            "\n"
          ]
        }
      ]
    },
    {
      "cell_type": "code",
      "source": [
        "model.save(\"audio_classification_model.keras\")"
      ],
      "metadata": {
        "id": "I2C4KIxxMWQS"
      },
      "execution_count": null,
      "outputs": []
    },
    {
      "cell_type": "markdown",
      "source": [
        "# Regression"
      ],
      "metadata": {
        "id": "tttGSGxEsImX"
      }
    },
    {
      "cell_type": "code",
      "source": [
        "features_train = np.load('train_samples_reg.npz', allow_pickle=True)['arr_0']\n",
        "features_test = np.load('test_samples_reg.npz', allow_pickle=True)['arr_0']\n",
        "targets_train = np.load('train_labels_reg.npz', allow_pickle=True)['arr_0']\n",
        "ctargets_test = np.load('test_labels_reg.npz', allow_pickle=True)['arr_0']"
      ],
      "metadata": {
        "id": "I9-Ir0FHsKUW"
      },
      "execution_count": 28,
      "outputs": []
    },
    {
      "cell_type": "code",
      "source": [
        "X_train = np.array(features_train)\n",
        "Y_train = np.array(targets_train)\n",
        "X_test = np.array(features_test)\n",
        "Y_test = np.array(ctargets_test)"
      ],
      "metadata": {
        "id": "GTDJG9wkue-J"
      },
      "execution_count": 29,
      "outputs": []
    },
    {
      "cell_type": "code",
      "source": [
        "X_train = np.array([(X - X.min()) / (X.max() - X.min()) for X in X_train])\n",
        "X_test = np.array([(X - X.min()) / (X.max() - X.min()) for X in X_test])"
      ],
      "metadata": {
        "id": "hUqdjgP0u9uO"
      },
      "execution_count": 30,
      "outputs": []
    },
    {
      "cell_type": "code",
      "source": [
        "input_shape = (80, 469, 1)\n",
        "\n",
        "model = Sequential()\n",
        "model.add(Conv2D(32, (1, 7), activation='relu', input_shape=input_shape))\n",
        "model.add(MaxPooling2D(pool_size=(4, 3), strides=(1, 3)))\n",
        "model.add(Conv2D(32, (1, 7), activation='relu'))\n",
        "model.add(MaxPooling2D(pool_size=(1, 3), strides=(1, 3)))\n",
        "model.add(Flatten())\n",
        "model.add(Dense(128, activation='relu'))\n",
        "model.add(Dense(128, activation='relu'))\n",
        "model.add(Dropout(0.5))\n",
        "model.add(Dense(1, activation='linear'))\n",
        "\n",
        "model.compile(optimizer=Adadelta(learning_rate=1), loss='mean_squared_error', metrics=['mean_absolute_error'])\n",
        "\n",
        "history = model.fit(X_train, Y_train, epochs=30, batch_size=4)\n",
        "\n",
        "loss, mean_absolute_error = model.evaluate(X_test, Y_test)\n",
        "print(f\"Test Loss: {loss}, Test Mean Absolute Error: {mean_absolute_error}\")"
      ],
      "metadata": {
        "colab": {
          "base_uri": "https://localhost:8080/"
        },
        "id": "pgxtnq_eYOCi",
        "outputId": "e953b12f-11b7-4b9f-ba5d-5e9aadbdb2ce"
      },
      "execution_count": 32,
      "outputs": [
        {
          "output_type": "stream",
          "name": "stdout",
          "text": [
            "Epoch 1/30\n",
            "39/39 [==============================] - 26s 617ms/step - loss: 58.8138 - mean_absolute_error: 6.3026\n",
            "Epoch 2/30\n",
            "39/39 [==============================] - 25s 638ms/step - loss: 49.2057 - mean_absolute_error: 5.6095\n",
            "Epoch 3/30\n",
            "39/39 [==============================] - 23s 579ms/step - loss: 38.6793 - mean_absolute_error: 5.2716\n",
            "Epoch 4/30\n",
            "39/39 [==============================] - 24s 595ms/step - loss: 36.6872 - mean_absolute_error: 4.9153\n",
            "Epoch 5/30\n",
            "39/39 [==============================] - 24s 615ms/step - loss: 22.6574 - mean_absolute_error: 3.8300\n",
            "Epoch 6/30\n",
            "39/39 [==============================] - 24s 614ms/step - loss: 23.1973 - mean_absolute_error: 3.7623\n",
            "Epoch 7/30\n",
            "39/39 [==============================] - 24s 615ms/step - loss: 17.2856 - mean_absolute_error: 3.1812\n",
            "Epoch 8/30\n",
            "39/39 [==============================] - 24s 620ms/step - loss: 13.2273 - mean_absolute_error: 2.8860\n",
            "Epoch 9/30\n",
            "39/39 [==============================] - 23s 600ms/step - loss: 11.6911 - mean_absolute_error: 2.5573\n",
            "Epoch 10/30\n",
            "39/39 [==============================] - 24s 619ms/step - loss: 9.8930 - mean_absolute_error: 2.3534\n",
            "Epoch 11/30\n",
            "39/39 [==============================] - 24s 606ms/step - loss: 11.7531 - mean_absolute_error: 2.5427\n",
            "Epoch 12/30\n",
            "39/39 [==============================] - 24s 611ms/step - loss: 9.3311 - mean_absolute_error: 2.2443\n",
            "Epoch 13/30\n",
            "39/39 [==============================] - 24s 612ms/step - loss: 8.5698 - mean_absolute_error: 2.1102\n",
            "Epoch 14/30\n",
            "39/39 [==============================] - 23s 588ms/step - loss: 10.4585 - mean_absolute_error: 2.4273\n",
            "Epoch 15/30\n",
            "39/39 [==============================] - 25s 633ms/step - loss: 7.9093 - mean_absolute_error: 2.0451\n",
            "Epoch 16/30\n",
            "39/39 [==============================] - 24s 601ms/step - loss: 5.5442 - mean_absolute_error: 1.7604\n",
            "Epoch 17/30\n",
            "39/39 [==============================] - 25s 648ms/step - loss: 4.6764 - mean_absolute_error: 1.6283\n",
            "Epoch 18/30\n",
            "39/39 [==============================] - 24s 606ms/step - loss: 6.8079 - mean_absolute_error: 1.8400\n",
            "Epoch 19/30\n",
            "39/39 [==============================] - 24s 606ms/step - loss: 6.9533 - mean_absolute_error: 1.8945\n",
            "Epoch 20/30\n",
            "39/39 [==============================] - 23s 593ms/step - loss: 5.6434 - mean_absolute_error: 1.6942\n",
            "Epoch 21/30\n",
            "39/39 [==============================] - 24s 595ms/step - loss: 5.0729 - mean_absolute_error: 1.6997\n",
            "Epoch 22/30\n",
            "39/39 [==============================] - 24s 612ms/step - loss: 5.7764 - mean_absolute_error: 1.7497\n",
            "Epoch 23/30\n",
            "39/39 [==============================] - 24s 615ms/step - loss: 7.0913 - mean_absolute_error: 1.7975\n",
            "Epoch 24/30\n",
            "39/39 [==============================] - 24s 613ms/step - loss: 4.5883 - mean_absolute_error: 1.4287\n",
            "Epoch 25/30\n",
            "39/39 [==============================] - 25s 642ms/step - loss: 4.1734 - mean_absolute_error: 1.4894\n",
            "Epoch 26/30\n",
            "39/39 [==============================] - 23s 588ms/step - loss: 5.0694 - mean_absolute_error: 1.5743\n",
            "Epoch 27/30\n",
            "39/39 [==============================] - 24s 616ms/step - loss: 4.9866 - mean_absolute_error: 1.6055\n",
            "Epoch 28/30\n",
            "39/39 [==============================] - 24s 618ms/step - loss: 5.4574 - mean_absolute_error: 1.6650\n",
            "Epoch 29/30\n",
            "39/39 [==============================] - 24s 617ms/step - loss: 4.0924 - mean_absolute_error: 1.4543\n",
            "Epoch 30/30\n",
            "39/39 [==============================] - 24s 614ms/step - loss: 5.4889 - mean_absolute_error: 1.7390\n"
          ]
        },
        {
          "output_type": "stream",
          "name": "stderr",
          "text": [
            "WARNING:tensorflow:5 out of the last 9 calls to <function Model.make_test_function.<locals>.test_function at 0x7a815c0075b0> triggered tf.function retracing. Tracing is expensive and the excessive number of tracings could be due to (1) creating @tf.function repeatedly in a loop, (2) passing tensors with different shapes, (3) passing Python objects instead of tensors. For (1), please define your @tf.function outside of the loop. For (2), @tf.function has reduce_retracing=True option that can avoid unnecessary retracing. For (3), please refer to https://www.tensorflow.org/guide/function#controlling_retracing and https://www.tensorflow.org/api_docs/python/tf/function for  more details.\n"
          ]
        },
        {
          "output_type": "stream",
          "name": "stdout",
          "text": [
            "2/2 [==============================] - 1s 46ms/step - loss: 38.2661 - mean_absolute_error: 5.0926\n",
            "Test Loss: 38.2661018371582, Test Mean Absolute Error: 5.092613697052002\n"
          ]
        }
      ]
    },
    {
      "cell_type": "code",
      "source": [
        "y_pred = model.predict(X_test)\n",
        "print(\"RMSE = \", np.sqrt(mean_squared_error(Y_test,y_pred)))"
      ],
      "metadata": {
        "colab": {
          "base_uri": "https://localhost:8080/"
        },
        "id": "NHU0st_7YTmi",
        "outputId": "946a2e3a-e7f4-4d90-ff6e-d74ad747dc7a"
      },
      "execution_count": 33,
      "outputs": [
        {
          "output_type": "stream",
          "name": "stdout",
          "text": [
            "2/2 [==============================] - 1s 92ms/step\n",
            "RMSE =  6.1859601576648675\n"
          ]
        }
      ]
    },
    {
      "cell_type": "code",
      "source": [],
      "metadata": {
        "id": "anVskYFpbiOc"
      },
      "execution_count": null,
      "outputs": []
    }
  ]
}