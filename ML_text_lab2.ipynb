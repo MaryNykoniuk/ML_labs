{
  "nbformat": 4,
  "nbformat_minor": 0,
  "metadata": {
    "colab": {
      "provenance": []
    },
    "kernelspec": {
      "name": "python3",
      "display_name": "Python 3"
    },
    "language_info": {
      "name": "python"
    }
  },
  "cells": [
    {
      "cell_type": "code",
      "source": [
        "import numpy as np\n",
        "import pandas as pd\n",
        "import wave\n",
        "import librosa\n",
        "import re\n",
        "from tensorflow_hub import load, Module\n",
        "import tensorflow as tf\n",
        "from keras.utils import to_categorical\n",
        "from sklearn.metrics import classification_report, confusion_matrix, precision_score, recall_score, f1_score, mean_absolute_error, mean_squared_error\n",
        "from tensorflow.keras.optimizers import Adam\n",
        "from tensorflow.keras.layers import Conv2D, MaxPooling2D, Activation, Dropout, Dense, Flatten, Input, LSTM, Bidirectional\n",
        "from tensorflow.keras.models import Model"
      ],
      "metadata": {
        "id": "iRI9JgLFyFBf"
      },
      "execution_count": null,
      "outputs": []
    },
    {
      "cell_type": "code",
      "source": [
        "!pip install contractions"
      ],
      "metadata": {
        "id": "wmi9eSYyzKEd"
      },
      "execution_count": null,
      "outputs": []
    },
    {
      "cell_type": "code",
      "source": [
        "import contractions"
      ],
      "metadata": {
        "id": "VR_ZfZJ3-PYk"
      },
      "execution_count": null,
      "outputs": []
    },
    {
      "cell_type": "code",
      "source": [
        "from google.colab import drive\n",
        "drive.mount('/content/drive', force_remount=True)\n",
        "%cd /content/drive/MyDrive/data_ML5/"
      ],
      "metadata": {
        "colab": {
          "base_uri": "https://localhost:8080/"
        },
        "id": "D20u-tPQhG2a",
        "outputId": "35eef4f8-08e8-431c-ed7d-2a6cd1bbaf05"
      },
      "execution_count": null,
      "outputs": [
        {
          "output_type": "stream",
          "name": "stdout",
          "text": [
            "Mounted at /content/drive\n",
            "/content/drive/MyDrive/data_ML5\n"
          ]
        }
      ]
    },
    {
      "cell_type": "code",
      "source": [
        "elmo = load(\"https://tfhub.dev/google/elmo/3\").signatures[\"default\"]"
      ],
      "metadata": {
        "id": "IUpIe6-80g3a"
      },
      "execution_count": null,
      "outputs": []
    },
    {
      "cell_type": "code",
      "source": [
        "train_split_df = pd.read_csv('train_split_Depression_AVEC2017.csv')\n",
        "test_split_df = pd.read_csv('dev_split_Depression_AVEC2017.csv')\n",
        "train_split_num = train_split_df[['Participant_ID']]['Participant_ID'].tolist()\n",
        "test_split_num = test_split_df[['Participant_ID']]['Participant_ID'].tolist()\n",
        "# train_split_clabel = train_split_df[['PHQ8_Binary']]['PHQ8_Binary'].tolist()\n",
        "# test_split_clabel = test_split_df[['PHQ8_Binary']]['PHQ8_Binary'].tolist()\n",
        "\n",
        "train_split_clabel = train_split_df[['PHQ8_Score']]['PHQ8_Score'].tolist()\n",
        "test_split_clabel = test_split_df[['PHQ8_Score']]['PHQ8_Score'].tolist()\n",
        "\n",
        "\n",
        "topics = []\n",
        "with open('questions.txt', 'r') as f:\n",
        "    for line in f.readlines():\n",
        "        topics.append(line.strip('\\n').strip())"
      ],
      "metadata": {
        "id": "o0CqiUvM0jiv"
      },
      "execution_count": null,
      "outputs": []
    },
    {
      "cell_type": "code",
      "source": [
        "print(\"Count 0: \", train_split_clabel.count(0))\n",
        "print(\"Count 1: \", train_split_clabel.count(1))"
      ],
      "metadata": {
        "colab": {
          "base_uri": "https://localhost:8080/"
        },
        "id": "Q-va7OkPG48B",
        "outputId": "7f09f62a-be49-47c6-a3fc-2af4d200acec"
      },
      "execution_count": null,
      "outputs": [
        {
          "output_type": "stream",
          "name": "stdout",
          "text": [
            "Count 0:  77\n",
            "Count 1:  30\n"
          ]
        }
      ]
    },
    {
      "cell_type": "code",
      "source": [
        "def identify_topics(sentence):\n",
        "    sentence = re.sub(r'\\(|\\)', '', sentence)\n",
        "    pattern = r'\\b(what|how|where|when|why|are|do|have|who|who\\'s|what\\'s|why\\'d|what\\'d)\\b(.*)$'\n",
        "    match = re.search(pattern, sentence, re.IGNORECASE)\n",
        "    if match:\n",
        "        question = match.group(0).strip()\n",
        "        if question in topics:\n",
        "          return True\n",
        "    return False\n",
        "\n",
        "def expanding_contractions(text):\n",
        "  # expanding contractions\n",
        "  expanded_words = []\n",
        "  for word in text.split():\n",
        "  # using contractions.fix to expand the shortened words\n",
        "    expanded_words.append(contractions.fix(word))\n",
        "\n",
        "  text = ' '.join(expanded_words)\n",
        "  return text\n",
        "\n",
        "\n",
        "\n",
        "def extract_features(number, text_features, target, mode, text_targets):\n",
        "    print(number)\n",
        "    transcript = pd.read_csv('{0}_TRANSCRIPT.csv'.format(number), sep='\\t').fillna('')\n",
        "\n",
        "    time_range = []\n",
        "    responses = []\n",
        "    response = ''\n",
        "    response_flag = False\n",
        "\n",
        "\n",
        "    for t in transcript.itertuples():\n",
        "        if getattr(t,'speaker') == 'Ellie':\n",
        "            content = getattr(t,'value').strip()\n",
        "            if identify_topics(content):\n",
        "                response_flag = True\n",
        "                if len(response) != 0:\n",
        "                    response = expanding_contractions(response.strip())\n",
        "                    response = re.sub(r'[^\\w\\s]', '', response)\n",
        "                    responses.append(response)\n",
        "                response = ''\n",
        "            elif response_flag and len(content.split()) > 4:\n",
        "                response_flag = False\n",
        "                if len(response) != 0:\n",
        "                    response = expanding_contractions(response)\n",
        "                    response = re.sub(r'[^\\w\\s]', '', response)\n",
        "                    responses.append(response)\n",
        "                response = ''\n",
        "        elif getattr(t,'speaker') == 'Participant':\n",
        "            if 'scrubbed_entry' in getattr(t,'value'):\n",
        "                continue\n",
        "            elif response_flag:\n",
        "                response +=' ' +getattr(t,'value').split('\\n')[0].strip()\n",
        "\n",
        "    if len(responses) == 0:\n",
        "      print(\"Empty\")\n",
        "    else:\n",
        "      text_feature = elmo(tf.constant(responses))[\"elmo\"]\n",
        "      text_feature = tf.reduce_mean(text_feature, axis=1)\n",
        "\n",
        "      print(text_feature.shape)\n",
        "\n",
        "      text_features.append(text_feature)\n",
        "      text_targets.append(target)\n",
        "\n",
        "\n"
      ],
      "metadata": {
        "id": "rU12eKf10s8j"
      },
      "execution_count": null,
      "outputs": []
    },
    {
      "cell_type": "code",
      "source": [
        "# training set\n",
        "text_features_train = []\n",
        "text_ctargets_train = []\n",
        "\n",
        "# test set\n",
        "text_features_test = []\n",
        "text_ctargets_test = []\n"
      ],
      "metadata": {
        "id": "UanrMY-8Yn0N"
      },
      "execution_count": null,
      "outputs": []
    },
    {
      "cell_type": "code",
      "source": [
        "for index in range(len(train_split_num)):\n",
        "     extract_features(train_split_num[index], text_features_train, train_split_clabel[index], 'train', text_ctargets_train)\n"
      ],
      "metadata": {
        "colab": {
          "base_uri": "https://localhost:8080/"
        },
        "id": "OIol-ikt0z6G",
        "outputId": "2928c878-704b-4259-82cc-25b1d67b8a00"
      },
      "execution_count": null,
      "outputs": [
        {
          "output_type": "stream",
          "name": "stdout",
          "text": [
            "303\n",
            "(33, 1024)\n",
            "304\n",
            "(40, 1024)\n",
            "305\n",
            "(41, 1024)\n",
            "310\n",
            "(40, 1024)\n",
            "312\n",
            "(39, 1024)\n",
            "313\n",
            "(36, 1024)\n",
            "315\n",
            "(44, 1024)\n",
            "316\n",
            "(48, 1024)\n",
            "317\n",
            "(42, 1024)\n",
            "318\n",
            "(33, 1024)\n",
            "319\n",
            "(38, 1024)\n",
            "320\n",
            "(53, 1024)\n",
            "321\n",
            "(54, 1024)\n",
            "322\n",
            "(48, 1024)\n",
            "324\n",
            "(39, 1024)\n",
            "325\n",
            "(37, 1024)\n",
            "326\n",
            "(44, 1024)\n",
            "327\n",
            "(46, 1024)\n",
            "328\n",
            "(38, 1024)\n",
            "330\n",
            "(41, 1024)\n",
            "333\n",
            "(42, 1024)\n",
            "336\n",
            "(46, 1024)\n",
            "338\n",
            "(37, 1024)\n",
            "339\n",
            "(44, 1024)\n",
            "340\n",
            "(41, 1024)\n",
            "341\n",
            "(45, 1024)\n",
            "343\n",
            "(47, 1024)\n",
            "344\n",
            "(45, 1024)\n",
            "345\n",
            "(33, 1024)\n",
            "347\n",
            "(43, 1024)\n",
            "348\n",
            "(48, 1024)\n",
            "350\n",
            "(40, 1024)\n",
            "351\n",
            "(48, 1024)\n",
            "352\n",
            "(31, 1024)\n",
            "353\n",
            "(39, 1024)\n",
            "355\n",
            "(34, 1024)\n",
            "356\n",
            "(34, 1024)\n",
            "357\n",
            "(29, 1024)\n",
            "358\n",
            "(40, 1024)\n",
            "360\n",
            "(32, 1024)\n",
            "362\n",
            "(41, 1024)\n",
            "363\n",
            "(27, 1024)\n",
            "364\n",
            "(31, 1024)\n",
            "366\n",
            "(26, 1024)\n",
            "368\n",
            "(23, 1024)\n",
            "369\n",
            "(28, 1024)\n",
            "370\n",
            "(21, 1024)\n",
            "371\n",
            "(38, 1024)\n",
            "372\n",
            "(34, 1024)\n",
            "374\n",
            "(33, 1024)\n",
            "375\n",
            "(33, 1024)\n",
            "376\n",
            "(31, 1024)\n",
            "379\n",
            "(27, 1024)\n",
            "380\n",
            "(31, 1024)\n",
            "383\n",
            "(27, 1024)\n",
            "385\n",
            "(34, 1024)\n",
            "386\n",
            "(34, 1024)\n",
            "391\n",
            "(31, 1024)\n",
            "392\n",
            "(32, 1024)\n",
            "393\n",
            "(26, 1024)\n",
            "397\n",
            "(37, 1024)\n",
            "400\n",
            "(38, 1024)\n",
            "401\n",
            "(31, 1024)\n",
            "402\n",
            "(30, 1024)\n",
            "409\n",
            "(22, 1024)\n",
            "412\n",
            "(37, 1024)\n",
            "414\n",
            "(26, 1024)\n",
            "415\n",
            "(33, 1024)\n",
            "416\n",
            "(36, 1024)\n",
            "419\n",
            "(27, 1024)\n",
            "423\n",
            "(35, 1024)\n",
            "425\n",
            "(34, 1024)\n",
            "426\n",
            "(34, 1024)\n",
            "427\n",
            "(36, 1024)\n",
            "428\n",
            "(32, 1024)\n",
            "429\n",
            "(37, 1024)\n",
            "430\n",
            "(35, 1024)\n",
            "433\n",
            "(30, 1024)\n",
            "434\n",
            "(30, 1024)\n",
            "437\n",
            "(31, 1024)\n",
            "441\n",
            "(49, 1024)\n",
            "443\n",
            "(35, 1024)\n",
            "444\n",
            "(29, 1024)\n",
            "445\n",
            "(34, 1024)\n",
            "446\n",
            "(28, 1024)\n",
            "447\n",
            "(27, 1024)\n",
            "448\n",
            "(25, 1024)\n",
            "449\n",
            "(28, 1024)\n",
            "454\n",
            "(43, 1024)\n",
            "455\n",
            "(27, 1024)\n",
            "456\n",
            "(37, 1024)\n",
            "457\n",
            "(34, 1024)\n",
            "459\n",
            "(41, 1024)\n",
            "463\n",
            "(34, 1024)\n",
            "464\n",
            "(28, 1024)\n",
            "468\n",
            "(26, 1024)\n",
            "471\n",
            "(30, 1024)\n",
            "473\n",
            "(40, 1024)\n",
            "474\n",
            "(34, 1024)\n",
            "475\n",
            "(27, 1024)\n",
            "478\n",
            "(40, 1024)\n",
            "479\n",
            "(37, 1024)\n",
            "485\n",
            "(39, 1024)\n",
            "486\n",
            "(32, 1024)\n",
            "487\n",
            "(26, 1024)\n",
            "488\n",
            "(30, 1024)\n",
            "491\n",
            "(39, 1024)\n"
          ]
        }
      ]
    },
    {
      "cell_type": "code",
      "source": [
        "for index in range(len(test_split_num)):\n",
        "  extract_features(test_split_num[index], text_features_test, test_split_clabel[index], 'test', text_ctargets_test)"
      ],
      "metadata": {
        "colab": {
          "base_uri": "https://localhost:8080/"
        },
        "id": "OuzpCVu0H7G9",
        "outputId": "6cbbc2bb-8cf8-4c2e-d9dc-2d4f9f45ab9f"
      },
      "execution_count": null,
      "outputs": [
        {
          "output_type": "stream",
          "name": "stdout",
          "text": [
            "302\n",
            "(31, 1024)\n",
            "307\n",
            "(30, 1024)\n",
            "331\n",
            "(39, 1024)\n",
            "335\n",
            "(34, 1024)\n",
            "346\n",
            "(39, 1024)\n",
            "367\n",
            "(29, 1024)\n",
            "377\n",
            "(36, 1024)\n",
            "381\n",
            "(35, 1024)\n",
            "382\n",
            "(38, 1024)\n",
            "388\n",
            "(34, 1024)\n",
            "389\n",
            "(45, 1024)\n",
            "390\n",
            "(34, 1024)\n",
            "395\n",
            "(33, 1024)\n",
            "403\n",
            "(28, 1024)\n",
            "404\n",
            "(30, 1024)\n",
            "406\n",
            "(26, 1024)\n",
            "413\n",
            "(31, 1024)\n",
            "417\n",
            "(27, 1024)\n",
            "418\n",
            "(34, 1024)\n",
            "420\n",
            "(39, 1024)\n",
            "422\n",
            "(25, 1024)\n",
            "436\n",
            "(34, 1024)\n",
            "439\n",
            "(26, 1024)\n",
            "440\n",
            "(37, 1024)\n",
            "451\n",
            "Empty\n",
            "458\n",
            "Empty\n",
            "472\n",
            "(31, 1024)\n",
            "476\n",
            "(31, 1024)\n",
            "477\n",
            "(32, 1024)\n",
            "482\n",
            "(31, 1024)\n",
            "483\n",
            "(32, 1024)\n",
            "484\n",
            "(32, 1024)\n",
            "489\n",
            "(36, 1024)\n",
            "490\n",
            "(38, 1024)\n",
            "492\n",
            "(32, 1024)\n"
          ]
        }
      ]
    },
    {
      "cell_type": "code",
      "source": [],
      "metadata": {
        "id": "7nTQwOgFtHkb"
      },
      "execution_count": null,
      "outputs": []
    },
    {
      "cell_type": "code",
      "source": [
        "# data imbalance\n",
        "X_train = []\n",
        "Y_train = []\n",
        "X_test = []\n",
        "Y_test = []\n",
        "\n",
        "counter = 0\n",
        "\n",
        "cut = 10\n",
        "debt = 0\n",
        "\n",
        "for i in range(len(text_features_train)):\n",
        "  # regression\n",
        "    if text_ctargets_train[i] >= 10:\n",
        "        times = 3 if counter < 48 else 2\n",
        "        for j in range(times):\n",
        "            if (j+1)*cut > len(text_features_train[i]):\n",
        "                debt+=1\n",
        "                continue\n",
        "            X_train.append(text_features_train[i][j*cut:(j+1)*cut])\n",
        "            Y_train.append(text_ctargets_train[i])\n",
        "            if debt > 0:\n",
        "                debt -= 1\n",
        "            counter+=1\n",
        "    else:\n",
        "        X_train.append(text_features_train[i][:cut])\n",
        "        Y_train.append(text_ctargets_train[i])\n",
        "\n",
        "\n",
        "for i in range(len(text_features_test)):\n",
        "    X_test.append(text_features_test[i][:cut])\n",
        "    Y_test.append(text_ctargets_test[i])\n",
        "\n",
        "X_train = np.array(X_train)\n",
        "Y_train = np.array(Y_train)\n",
        "X_test = np.array(X_test)\n",
        "Y_test = np.array(Y_test)"
      ],
      "metadata": {
        "id": "yxMwJ90ggQqo"
      },
      "execution_count": null,
      "outputs": []
    },
    {
      "cell_type": "code",
      "source": [
        "print(X_train.shape)\n",
        "print(Y_train.shape)\n",
        "print(X_test.shape)\n",
        "print(Y_test.shape)"
      ],
      "metadata": {
        "colab": {
          "base_uri": "https://localhost:8080/"
        },
        "id": "A7Y3Nk-KF1yp",
        "outputId": "4eb76fe3-f861-4569-e1a1-61e77930a94f"
      },
      "execution_count": null,
      "outputs": [
        {
          "output_type": "stream",
          "name": "stdout",
          "text": [
            "(154, 10, 1024)\n",
            "(154,)\n",
            "(33, 10, 1024)\n",
            "(33,)\n"
          ]
        }
      ]
    },
    {
      "cell_type": "code",
      "source": [
        "np.savez('text_train_X_reg_new1.npz', X_train)\n",
        "np.savez('text_train_Y_reg_new1.npz', Y_train)\n",
        "np.savez('text_test_X_reg_new1.npz', X_test)\n",
        "np.savez('text_test_Y_reg_new1.npz', Y_test)"
      ],
      "metadata": {
        "id": "x6np55LIg-4e"
      },
      "execution_count": null,
      "outputs": []
    },
    {
      "cell_type": "code",
      "source": [
        "# data imbalance\n",
        "X_train = []\n",
        "Y_train = []\n",
        "X_test = []\n",
        "Y_test = []\n",
        "\n",
        "counter = 0\n",
        "\n",
        "cut = 10\n",
        "debt = 0\n",
        "\n",
        "for i in range(len(text_features_train)):\n",
        "  # classification\n",
        "    if text_ctargets_train[i] == 1:\n",
        "        times = 3+debt if counter < 48 else 2+debt\n",
        "        for j in range(times):\n",
        "            if (j+1)*cut > len(text_features_train[i]):\n",
        "                debt+=1\n",
        "                continue\n",
        "            X_train.append(text_features_train[i][j*cut:(j+1)*cut])\n",
        "            Y_train.append(text_ctargets_train[i])\n",
        "            if debt > 0:\n",
        "                debt -= 1\n",
        "            counter+=1\n",
        "    else:\n",
        "        X_train.append(text_features_train[i][:cut])\n",
        "        Y_train.append(text_ctargets_train[i])\n",
        "\n",
        "\n",
        "for i in range(len(text_features_test)):\n",
        "    X_test.append(text_features_test[i][:cut])\n",
        "    Y_test.append(text_ctargets_test[i])\n",
        "\n",
        "X_train = np.array(X_train)\n",
        "Y_train = np.array(Y_train)\n",
        "X_test = np.array(X_test)\n",
        "Y_test = np.array(Y_test)"
      ],
      "metadata": {
        "id": "hIxUt58aYTzz"
      },
      "execution_count": null,
      "outputs": []
    },
    {
      "cell_type": "code",
      "source": [
        "print(\"Count 0: \", list(Y_train).count(0))\n",
        "print(\"Count 1: \", list(Y_train).count(1))"
      ],
      "metadata": {
        "colab": {
          "base_uri": "https://localhost:8080/"
        },
        "id": "c4XS34sKGetC",
        "outputId": "138db7ad-2584-454f-8d76-fd030bcf748d"
      },
      "execution_count": null,
      "outputs": [
        {
          "output_type": "stream",
          "name": "stdout",
          "text": [
            "Count 0:  77\n",
            "Count 1:  76\n"
          ]
        }
      ]
    },
    {
      "cell_type": "code",
      "source": [
        "np.savez('text_train_X_cla1.npz', X_train)\n",
        "np.savez('text_train_Y_cla1.npz', Y_train)\n",
        "np.savez('text_test_X_cla1.npz', X_test)\n",
        "np.savez('text_test_Y_cla1.npz', Y_test)"
      ],
      "metadata": {
        "id": "8DZrkh5MYeNf"
      },
      "execution_count": null,
      "outputs": []
    },
    {
      "cell_type": "markdown",
      "source": [
        "# Classification"
      ],
      "metadata": {
        "id": "rQr-PxZLY8RF"
      }
    },
    {
      "cell_type": "code",
      "source": [
        "X_train = np.load('text_train_X_cla1.npz', allow_pickle=True)['arr_0']\n",
        "Y_train = np.load('text_train_Y_cla1.npz', allow_pickle=True)['arr_0']\n",
        "X_test = np.load('text_test_X_cla1.npz', allow_pickle=True)['arr_0']\n",
        "Y_test = np.load('text_test_Y_cla1.npz', allow_pickle=True)['arr_0']\n"
      ],
      "metadata": {
        "id": "1BUjQEk713ra"
      },
      "execution_count": null,
      "outputs": []
    },
    {
      "cell_type": "code",
      "source": [
        "train_y = to_categorical(Y_train)\n",
        "test_y = to_categorical(Y_test)"
      ],
      "metadata": {
        "id": "MgjY3PIBjh52"
      },
      "execution_count": null,
      "outputs": []
    },
    {
      "cell_type": "code",
      "source": [
        "print(X_train.shape)\n",
        "print(Y_train.shape)\n",
        "print(X_test.shape)\n",
        "print(Y_test.shape)"
      ],
      "metadata": {
        "colab": {
          "base_uri": "https://localhost:8080/"
        },
        "id": "ntOXuCU1g0e-",
        "outputId": "021e713c-ee82-4a7e-a81e-cc0888b1adb9"
      },
      "execution_count": null,
      "outputs": [
        {
          "output_type": "stream",
          "name": "stdout",
          "text": [
            "(153, 10, 1024)\n",
            "(153,)\n",
            "(33, 10, 1024)\n",
            "(33,)\n"
          ]
        }
      ]
    },
    {
      "cell_type": "code",
      "source": [
        "class AttentionLayer_1(tf.keras.Model):\n",
        "    def __init__(self, hidden_dims):\n",
        "        super(AttentionLayer_1, self).__init__()\n",
        "\n",
        "        self.linear_layer = tf.keras.layers.Dense(hidden_dims)\n",
        "        self.relu_layer = tf.keras.layers.ReLU()\n",
        "\n",
        "    def call(self, inputs):\n",
        "        x = self.linear_layer(inputs)\n",
        "        x = self.relu_layer(x)\n",
        "        return x\n",
        "\n",
        "\n",
        "def attention(output, final_hidden_state):\n",
        "    lstm_hidden = tf.expand_dims(tf.convert_to_tensor(final_hidden_state), 1)\n",
        "    attention_layer = AttentionLayer_1(hidden_dims=128)\n",
        "    atten_w = attention_layer(lstm_hidden)\n",
        "    tanh = tf.keras.activations.tanh(output)\n",
        "    c = tf.matmul(atten_w, tf.transpose(tanh, (0, 2, 1)))\n",
        "    softmax_w = tf.keras.activations.softmax(c, axis=-1)\n",
        "    context = tf.matmul(softmax_w, output)\n",
        "    result = tf.squeeze(context, axis=1)\n",
        "    return result\n",
        "\n",
        "def create_model():\n",
        "\n",
        "    inputs = Input(shape=(10, 1024))\n",
        "\n",
        "    forward_layer = LSTM(128,  activation='relu', dropout=0.5, return_sequences=True, return_state=True)\n",
        "    backward_layer = LSTM(128, activation='relu',  dropout=0.5, return_sequences=True, go_backwards=True, return_state=True)\n",
        "    bidir = Bidirectional(forward_layer, backward_layer=backward_layer, input_shape=(10, 1024), merge_mode='sum')\n",
        "\n",
        "    output, forward_state, forward_sell_tate, backward_state, backward_sell_state = bidir(inputs)\n",
        "    final_hidden_state = forward_state + backward_state\n",
        "\n",
        "    x = attention(output, final_hidden_state)\n",
        "\n",
        "    x = Dropout(0.5)(x)\n",
        "    x = Dense(128, activation='relu')(x)\n",
        "    x = Dropout(0.5)(x)\n",
        "    x = Dense(128, activation='relu')(x)\n",
        "\n",
        "    outputs = Dense(2, activation='softmax')(x)\n",
        "\n",
        "    model = Model(inputs=inputs, outputs=outputs)\n",
        "\n",
        "    return model\n",
        "\n"
      ],
      "metadata": {
        "id": "wIwaQUvcHqfE"
      },
      "execution_count": null,
      "outputs": []
    },
    {
      "cell_type": "code",
      "source": [
        "model = create_model()\n",
        "model.compile(loss='categorical_crossentropy', optimizer=Adam(learning_rate=0.00001), metrics=['accuracy'])"
      ],
      "metadata": {
        "id": "xJNVHw5nIous"
      },
      "execution_count": null,
      "outputs": []
    },
    {
      "cell_type": "code",
      "source": [
        "model.fit(X_train, train_y, epochs=30, validation_data=(X_test, test_y), batch_size=8)"
      ],
      "metadata": {
        "id": "bHtC3gKnJOuY",
        "colab": {
          "base_uri": "https://localhost:8080/"
        },
        "outputId": "9c702960-925f-4ddf-8c7b-2a0a98ab6ad6"
      },
      "execution_count": null,
      "outputs": [
        {
          "output_type": "stream",
          "name": "stdout",
          "text": [
            "Epoch 1/30\n",
            "20/20 [==============================] - 7s 85ms/step - loss: 0.6949 - accuracy: 0.5163 - val_loss: 0.6928 - val_accuracy: 0.4848\n",
            "Epoch 2/30\n",
            "20/20 [==============================] - 2s 86ms/step - loss: 0.6863 - accuracy: 0.5621 - val_loss: 0.6886 - val_accuracy: 0.5152\n",
            "Epoch 3/30\n",
            "20/20 [==============================] - 2s 85ms/step - loss: 0.6855 - accuracy: 0.6013 - val_loss: 0.6844 - val_accuracy: 0.5455\n",
            "Epoch 4/30\n",
            "20/20 [==============================] - 2s 83ms/step - loss: 0.6714 - accuracy: 0.5817 - val_loss: 0.6819 - val_accuracy: 0.5152\n",
            "Epoch 5/30\n",
            "20/20 [==============================] - 1s 45ms/step - loss: 0.6652 - accuracy: 0.5817 - val_loss: 0.6746 - val_accuracy: 0.5758\n",
            "Epoch 6/30\n",
            "20/20 [==============================] - 1s 44ms/step - loss: 0.6484 - accuracy: 0.6471 - val_loss: 0.6584 - val_accuracy: 0.6364\n",
            "Epoch 7/30\n",
            "20/20 [==============================] - 1s 45ms/step - loss: 0.6568 - accuracy: 0.6144 - val_loss: 0.6392 - val_accuracy: 0.6364\n",
            "Epoch 8/30\n",
            "20/20 [==============================] - 1s 39ms/step - loss: 0.6386 - accuracy: 0.6405 - val_loss: 0.6241 - val_accuracy: 0.6970\n",
            "Epoch 9/30\n",
            "20/20 [==============================] - 1s 41ms/step - loss: 0.6341 - accuracy: 0.6797 - val_loss: 0.6088 - val_accuracy: 0.6970\n",
            "Epoch 10/30\n",
            "20/20 [==============================] - 1s 46ms/step - loss: 0.6331 - accuracy: 0.6340 - val_loss: 0.6071 - val_accuracy: 0.6970\n",
            "Epoch 11/30\n",
            "20/20 [==============================] - 1s 41ms/step - loss: 0.6106 - accuracy: 0.6797 - val_loss: 0.5965 - val_accuracy: 0.6970\n",
            "Epoch 12/30\n",
            "20/20 [==============================] - 1s 43ms/step - loss: 0.6145 - accuracy: 0.6667 - val_loss: 0.5799 - val_accuracy: 0.7273\n",
            "Epoch 13/30\n",
            "20/20 [==============================] - 1s 42ms/step - loss: 0.5868 - accuracy: 0.6797 - val_loss: 0.5731 - val_accuracy: 0.6970\n",
            "Epoch 14/30\n",
            "20/20 [==============================] - 1s 43ms/step - loss: 0.5775 - accuracy: 0.6732 - val_loss: 0.5546 - val_accuracy: 0.7576\n",
            "Epoch 15/30\n",
            "20/20 [==============================] - 1s 40ms/step - loss: 0.5536 - accuracy: 0.7190 - val_loss: 0.5447 - val_accuracy: 0.7273\n",
            "Epoch 16/30\n",
            "20/20 [==============================] - 1s 53ms/step - loss: 0.5268 - accuracy: 0.6993 - val_loss: 0.5258 - val_accuracy: 0.7576\n",
            "Epoch 17/30\n",
            "20/20 [==============================] - 2s 85ms/step - loss: 0.5316 - accuracy: 0.7059 - val_loss: 0.5279 - val_accuracy: 0.7576\n",
            "Epoch 18/30\n",
            "20/20 [==============================] - 2s 82ms/step - loss: 0.5463 - accuracy: 0.7386 - val_loss: 0.5176 - val_accuracy: 0.7576\n",
            "Epoch 19/30\n",
            "20/20 [==============================] - 2s 87ms/step - loss: 0.4643 - accuracy: 0.7712 - val_loss: 0.5144 - val_accuracy: 0.7576\n",
            "Epoch 20/30\n",
            "20/20 [==============================] - 1s 64ms/step - loss: 0.4805 - accuracy: 0.7712 - val_loss: 0.5067 - val_accuracy: 0.7576\n",
            "Epoch 21/30\n",
            "20/20 [==============================] - 1s 42ms/step - loss: 0.5091 - accuracy: 0.7386 - val_loss: 0.5483 - val_accuracy: 0.7576\n",
            "Epoch 22/30\n",
            "20/20 [==============================] - 1s 44ms/step - loss: 0.4944 - accuracy: 0.7516 - val_loss: 0.5020 - val_accuracy: 0.7576\n",
            "Epoch 23/30\n",
            "20/20 [==============================] - 1s 45ms/step - loss: 0.4594 - accuracy: 0.7843 - val_loss: 0.5064 - val_accuracy: 0.7576\n",
            "Epoch 24/30\n",
            "20/20 [==============================] - 1s 45ms/step - loss: 0.5013 - accuracy: 0.7712 - val_loss: 0.5738 - val_accuracy: 0.7273\n",
            "Epoch 25/30\n",
            "20/20 [==============================] - 1s 44ms/step - loss: 0.5254 - accuracy: 0.7582 - val_loss: 0.5107 - val_accuracy: 0.7576\n",
            "Epoch 26/30\n",
            "20/20 [==============================] - 1s 42ms/step - loss: 0.4456 - accuracy: 0.7908 - val_loss: 0.5244 - val_accuracy: 0.7879\n",
            "Epoch 27/30\n",
            "20/20 [==============================] - 1s 43ms/step - loss: 0.4471 - accuracy: 0.7843 - val_loss: 0.5038 - val_accuracy: 0.7576\n",
            "Epoch 28/30\n",
            "20/20 [==============================] - 1s 45ms/step - loss: 0.4157 - accuracy: 0.8170 - val_loss: 0.5363 - val_accuracy: 0.7576\n",
            "Epoch 29/30\n",
            "20/20 [==============================] - 1s 43ms/step - loss: 0.4199 - accuracy: 0.7908 - val_loss: 0.4973 - val_accuracy: 0.7576\n",
            "Epoch 30/30\n",
            "20/20 [==============================] - 1s 43ms/step - loss: 0.4369 - accuracy: 0.7778 - val_loss: 0.5031 - val_accuracy: 0.7576\n"
          ]
        },
        {
          "output_type": "execute_result",
          "data": {
            "text/plain": [
              "<keras.src.callbacks.History at 0x7cbbb8de0d60>"
            ]
          },
          "metadata": {},
          "execution_count": 51
        }
      ]
    },
    {
      "cell_type": "code",
      "source": [
        "y_pred = model.predict(X_test)"
      ],
      "metadata": {
        "colab": {
          "base_uri": "https://localhost:8080/"
        },
        "id": "E0_A_7pRRpWy",
        "outputId": "d68468f5-7f68-404b-89fd-fdb95b4cfe38"
      },
      "execution_count": null,
      "outputs": [
        {
          "output_type": "stream",
          "name": "stdout",
          "text": [
            "2/2 [==============================] - 0s 13ms/step\n"
          ]
        }
      ]
    },
    {
      "cell_type": "code",
      "source": [
        "predicted_1 = [1 if x[1] > x[0] else 0 for x in y_pred]\n",
        "print(classification_report(Y_test, predicted_1))"
      ],
      "metadata": {
        "colab": {
          "base_uri": "https://localhost:8080/"
        },
        "id": "gwQSQ94v4_og",
        "outputId": "a33aa72e-760a-4909-b869-b05d558925e2"
      },
      "execution_count": null,
      "outputs": [
        {
          "output_type": "stream",
          "name": "stdout",
          "text": [
            "              precision    recall  f1-score   support\n",
            "\n",
            "           0       0.74      0.95      0.83        21\n",
            "           1       0.83      0.42      0.56        12\n",
            "\n",
            "    accuracy                           0.76        33\n",
            "   macro avg       0.79      0.68      0.69        33\n",
            "weighted avg       0.77      0.76      0.73        33\n",
            "\n"
          ]
        }
      ]
    },
    {
      "cell_type": "code",
      "source": [
        "model.save(\"model_text_class1.keras\")"
      ],
      "metadata": {
        "id": "9U-9nTOtVtCo"
      },
      "execution_count": null,
      "outputs": []
    },
    {
      "cell_type": "markdown",
      "source": [
        "# Regression"
      ],
      "metadata": {
        "id": "nUIwbnLkY0e_"
      }
    },
    {
      "cell_type": "code",
      "source": [
        "X_train = np.load('text_train_X_reg_new1.npz', allow_pickle=True)['arr_0']\n",
        "Y_train = np.load('text_train_Y_reg_new1.npz', allow_pickle=True)['arr_0']\n",
        "X_test = np.load('text_test_X_reg_new1.npz', allow_pickle=True)['arr_0']\n",
        "Y_test = np.load('text_test_Y_reg_new1.npz', allow_pickle=True)['arr_0']\n"
      ],
      "metadata": {
        "id": "51YkXLUpxvJ0"
      },
      "execution_count": null,
      "outputs": []
    },
    {
      "cell_type": "code",
      "source": [
        "print(X_train.shape)\n",
        "print(Y_train.shape)\n",
        "print(X_test.shape)\n",
        "print(Y_test.shape)"
      ],
      "metadata": {
        "colab": {
          "base_uri": "https://localhost:8080/"
        },
        "id": "0NFW6zVsZDJY",
        "outputId": "472122e2-e124-43b0-a8c9-65ec6d9e906d"
      },
      "execution_count": null,
      "outputs": [
        {
          "output_type": "stream",
          "name": "stdout",
          "text": [
            "(154, 10, 1024)\n",
            "(154,)\n",
            "(33, 10, 1024)\n",
            "(33,)\n"
          ]
        }
      ]
    },
    {
      "cell_type": "code",
      "source": [
        "class AttentionLayer_1(tf.keras.Model):\n",
        "    def __init__(self, hidden_dims):\n",
        "        super(AttentionLayer_1, self).__init__()\n",
        "\n",
        "        self.linear_layer = tf.keras.layers.Dense(hidden_dims)\n",
        "        self.relu_layer = tf.keras.layers.ReLU()\n",
        "\n",
        "    def call(self, inputs):\n",
        "        x = self.linear_layer(inputs)\n",
        "        x = self.relu_layer(x)\n",
        "        return x\n",
        "\n",
        "\n",
        "def attention(output, final_hidden_state):\n",
        "    lstm_hidden = tf.expand_dims(tf.convert_to_tensor(final_hidden_state), 1)\n",
        "    attention_layer = AttentionLayer_1(hidden_dims=128)\n",
        "    atten_w = attention_layer(lstm_hidden)\n",
        "    tanh = tf.keras.activations.tanh(output)\n",
        "    c = tf.matmul(atten_w, tf.transpose(tanh, (0, 2, 1)))\n",
        "    softmax_w = tf.keras.activations.softmax(c, axis=-1)\n",
        "    context = tf.matmul(softmax_w, output)\n",
        "    result = tf.squeeze(context, axis=1)\n",
        "    return result\n",
        "\n",
        "def create_model():\n",
        "\n",
        "    inputs = Input(shape=(10, 1024))\n",
        "\n",
        "    forward_layer = LSTM(128,  activation='relu', dropout=0.5, return_sequences=True, return_state=True)\n",
        "    backward_layer = LSTM(128, activation='relu',  dropout=0.5, return_sequences=True, go_backwards=True, return_state=True)\n",
        "    bidir = Bidirectional(forward_layer, backward_layer=backward_layer, input_shape=(10, 1024), merge_mode='sum')\n",
        "\n",
        "    output, forward_state, forward_sell_tate, backward_state, backward_sell_state = bidir(inputs)\n",
        "    final_hidden_state = forward_state + backward_state\n",
        "\n",
        "    x = attention(output, final_hidden_state)\n",
        "\n",
        "    x = Dropout(0.5)(x)\n",
        "    x = Dense(128, activation='relu')(x)\n",
        "    x = Dropout(0.5)(x)\n",
        "    x = Dense(128, activation='relu')(x)\n",
        "\n",
        "    outputs = Dense(1, activation='linear')(x)\n",
        "\n",
        "    model = Model(inputs=inputs, outputs=outputs)\n",
        "\n",
        "    return model\n"
      ],
      "metadata": {
        "id": "LxS1o39BZk8X"
      },
      "execution_count": null,
      "outputs": []
    },
    {
      "cell_type": "code",
      "source": [
        "model = create_model()\n",
        "model.compile(optimizer=Adam(learning_rate=0.00001), loss='mean_squared_error', metrics=['mean_absolute_error'])\n",
        "model.fit(X_train, Y_train, epochs=50, validation_data=(X_test, Y_test), batch_size=8)"
      ],
      "metadata": {
        "colab": {
          "base_uri": "https://localhost:8080/"
        },
        "id": "8fKsc-r5ZnY3",
        "outputId": "bd50ef2a-04b5-43cb-f1cd-b0419b017b4b"
      },
      "execution_count": null,
      "outputs": [
        {
          "output_type": "stream",
          "name": "stderr",
          "text": [
            "WARNING:tensorflow:Layer lstm_14 will not use cuDNN kernels since it doesn't meet the criteria. It will use a generic GPU kernel as fallback when running on GPU.\n",
            "WARNING:tensorflow:Layer lstm_15 will not use cuDNN kernels since it doesn't meet the criteria. It will use a generic GPU kernel as fallback when running on GPU.\n",
            "WARNING:tensorflow:Layer lstm_14 will not use cuDNN kernels since it doesn't meet the criteria. It will use a generic GPU kernel as fallback when running on GPU.\n"
          ]
        },
        {
          "output_type": "stream",
          "name": "stdout",
          "text": [
            "Epoch 1/50\n",
            "20/20 [==============================] - 6s 68ms/step - loss: 106.8831 - mean_absolute_error: 8.5301 - val_loss: 101.1672 - val_mean_absolute_error: 7.5665\n",
            "Epoch 2/50\n",
            "20/20 [==============================] - 1s 44ms/step - loss: 106.3080 - mean_absolute_error: 8.5020 - val_loss: 100.7068 - val_mean_absolute_error: 7.5460\n",
            "Epoch 3/50\n",
            "20/20 [==============================] - 1s 45ms/step - loss: 105.9459 - mean_absolute_error: 8.4855 - val_loss: 100.2379 - val_mean_absolute_error: 7.5255\n",
            "Epoch 4/50\n",
            "20/20 [==============================] - 1s 46ms/step - loss: 105.1837 - mean_absolute_error: 8.4514 - val_loss: 99.7719 - val_mean_absolute_error: 7.5050\n",
            "Epoch 5/50\n",
            "20/20 [==============================] - 1s 41ms/step - loss: 104.4919 - mean_absolute_error: 8.4116 - val_loss: 99.2626 - val_mean_absolute_error: 7.4826\n",
            "Epoch 6/50\n",
            "20/20 [==============================] - 1s 44ms/step - loss: 103.8253 - mean_absolute_error: 8.3958 - val_loss: 98.7080 - val_mean_absolute_error: 7.4576\n",
            "Epoch 7/50\n",
            "20/20 [==============================] - 1s 46ms/step - loss: 103.1750 - mean_absolute_error: 8.3522 - val_loss: 98.0988 - val_mean_absolute_error: 7.4301\n",
            "Epoch 8/50\n",
            "20/20 [==============================] - 1s 65ms/step - loss: 102.1957 - mean_absolute_error: 8.3049 - val_loss: 97.4063 - val_mean_absolute_error: 7.3985\n",
            "Epoch 9/50\n",
            "20/20 [==============================] - 2s 93ms/step - loss: 101.3816 - mean_absolute_error: 8.2793 - val_loss: 96.6183 - val_mean_absolute_error: 7.3627\n",
            "Epoch 10/50\n",
            "20/20 [==============================] - 2s 86ms/step - loss: 100.3739 - mean_absolute_error: 8.2305 - val_loss: 95.7464 - val_mean_absolute_error: 7.3232\n",
            "Epoch 11/50\n",
            "20/20 [==============================] - 1s 58ms/step - loss: 99.3139 - mean_absolute_error: 8.1816 - val_loss: 94.6828 - val_mean_absolute_error: 7.2748\n",
            "Epoch 12/50\n",
            "20/20 [==============================] - 1s 41ms/step - loss: 97.7489 - mean_absolute_error: 8.1167 - val_loss: 93.4969 - val_mean_absolute_error: 7.2206\n",
            "Epoch 13/50\n",
            "20/20 [==============================] - 1s 47ms/step - loss: 96.8078 - mean_absolute_error: 8.0505 - val_loss: 92.1937 - val_mean_absolute_error: 7.1608\n",
            "Epoch 14/50\n",
            "20/20 [==============================] - 1s 45ms/step - loss: 95.6334 - mean_absolute_error: 7.9902 - val_loss: 90.6035 - val_mean_absolute_error: 7.0877\n",
            "Epoch 15/50\n",
            "20/20 [==============================] - 1s 48ms/step - loss: 93.3747 - mean_absolute_error: 7.9075 - val_loss: 88.8121 - val_mean_absolute_error: 7.0048\n",
            "Epoch 16/50\n",
            "20/20 [==============================] - 1s 43ms/step - loss: 91.4719 - mean_absolute_error: 7.7916 - val_loss: 86.5263 - val_mean_absolute_error: 6.8981\n",
            "Epoch 17/50\n",
            "20/20 [==============================] - 1s 45ms/step - loss: 90.3629 - mean_absolute_error: 7.7388 - val_loss: 84.0208 - val_mean_absolute_error: 6.7809\n",
            "Epoch 18/50\n",
            "20/20 [==============================] - 1s 45ms/step - loss: 86.8543 - mean_absolute_error: 7.5957 - val_loss: 81.0648 - val_mean_absolute_error: 6.6507\n",
            "Epoch 19/50\n",
            "20/20 [==============================] - 1s 45ms/step - loss: 85.1664 - mean_absolute_error: 7.4738 - val_loss: 77.8198 - val_mean_absolute_error: 6.5361\n",
            "Epoch 20/50\n",
            "20/20 [==============================] - 1s 41ms/step - loss: 79.2668 - mean_absolute_error: 7.2151 - val_loss: 74.1846 - val_mean_absolute_error: 6.4040\n",
            "Epoch 21/50\n",
            "20/20 [==============================] - 1s 43ms/step - loss: 76.4674 - mean_absolute_error: 7.0689 - val_loss: 70.0366 - val_mean_absolute_error: 6.2475\n",
            "Epoch 22/50\n",
            "20/20 [==============================] - 1s 56ms/step - loss: 71.0719 - mean_absolute_error: 6.8974 - val_loss: 65.3338 - val_mean_absolute_error: 6.0572\n",
            "Epoch 23/50\n",
            "20/20 [==============================] - 2s 88ms/step - loss: 69.3369 - mean_absolute_error: 6.7310 - val_loss: 60.9579 - val_mean_absolute_error: 5.8645\n",
            "Epoch 24/50\n",
            "20/20 [==============================] - 2s 86ms/step - loss: 62.8698 - mean_absolute_error: 6.3981 - val_loss: 56.7332 - val_mean_absolute_error: 5.6686\n",
            "Epoch 25/50\n",
            "20/20 [==============================] - 1s 66ms/step - loss: 58.6016 - mean_absolute_error: 6.2002 - val_loss: 51.8988 - val_mean_absolute_error: 5.4693\n",
            "Epoch 26/50\n",
            "20/20 [==============================] - 1s 47ms/step - loss: 54.7678 - mean_absolute_error: 5.8260 - val_loss: 47.0529 - val_mean_absolute_error: 5.2987\n",
            "Epoch 27/50\n",
            "20/20 [==============================] - 1s 43ms/step - loss: 53.2206 - mean_absolute_error: 5.7446 - val_loss: 43.4714 - val_mean_absolute_error: 5.1748\n",
            "Epoch 28/50\n",
            "20/20 [==============================] - 1s 42ms/step - loss: 50.6772 - mean_absolute_error: 5.6253 - val_loss: 41.8443 - val_mean_absolute_error: 5.1285\n",
            "Epoch 29/50\n",
            "20/20 [==============================] - 1s 45ms/step - loss: 50.0660 - mean_absolute_error: 5.5454 - val_loss: 39.9730 - val_mean_absolute_error: 5.0826\n",
            "Epoch 30/50\n",
            "20/20 [==============================] - 1s 48ms/step - loss: 48.3406 - mean_absolute_error: 5.5141 - val_loss: 39.1336 - val_mean_absolute_error: 5.0750\n",
            "Epoch 31/50\n",
            "20/20 [==============================] - 1s 42ms/step - loss: 46.5347 - mean_absolute_error: 5.5201 - val_loss: 37.6054 - val_mean_absolute_error: 5.0506\n",
            "Epoch 32/50\n",
            "20/20 [==============================] - 1s 41ms/step - loss: 46.4857 - mean_absolute_error: 5.5972 - val_loss: 37.0601 - val_mean_absolute_error: 5.0591\n",
            "Epoch 33/50\n",
            "20/20 [==============================] - 1s 44ms/step - loss: 58.3087 - mean_absolute_error: 5.7495 - val_loss: 38.1628 - val_mean_absolute_error: 5.1080\n",
            "Epoch 34/50\n",
            "20/20 [==============================] - 1s 46ms/step - loss: 45.4553 - mean_absolute_error: 5.4722 - val_loss: 38.0377 - val_mean_absolute_error: 5.1170\n",
            "Epoch 35/50\n",
            "20/20 [==============================] - 1s 47ms/step - loss: 43.2626 - mean_absolute_error: 5.3696 - val_loss: 37.1454 - val_mean_absolute_error: 5.1093\n",
            "Epoch 36/50\n",
            "20/20 [==============================] - 1s 53ms/step - loss: 39.6339 - mean_absolute_error: 5.0413 - val_loss: 36.5718 - val_mean_absolute_error: 5.1062\n",
            "Epoch 37/50\n",
            "20/20 [==============================] - 2s 90ms/step - loss: 46.5937 - mean_absolute_error: 5.5180 - val_loss: 35.9555 - val_mean_absolute_error: 5.1017\n",
            "Epoch 38/50\n",
            "20/20 [==============================] - 2s 90ms/step - loss: 41.6765 - mean_absolute_error: 5.1584 - val_loss: 35.7667 - val_mean_absolute_error: 5.1100\n",
            "Epoch 39/50\n",
            "20/20 [==============================] - 1s 69ms/step - loss: 46.1737 - mean_absolute_error: 5.4140 - val_loss: 36.1066 - val_mean_absolute_error: 5.1334\n",
            "Epoch 40/50\n",
            "20/20 [==============================] - 1s 42ms/step - loss: 46.0215 - mean_absolute_error: 5.4663 - val_loss: 36.6367 - val_mean_absolute_error: 5.1557\n",
            "Epoch 41/50\n",
            "20/20 [==============================] - 1s 49ms/step - loss: 42.9471 - mean_absolute_error: 5.1271 - val_loss: 36.2932 - val_mean_absolute_error: 5.1592\n",
            "Epoch 42/50\n",
            "20/20 [==============================] - 1s 44ms/step - loss: 39.1404 - mean_absolute_error: 5.0584 - val_loss: 36.2599 - val_mean_absolute_error: 5.1664\n",
            "Epoch 43/50\n",
            "20/20 [==============================] - 1s 48ms/step - loss: 42.5675 - mean_absolute_error: 5.2316 - val_loss: 35.9365 - val_mean_absolute_error: 5.1648\n",
            "Epoch 44/50\n",
            "20/20 [==============================] - 1s 41ms/step - loss: 39.3192 - mean_absolute_error: 5.0689 - val_loss: 35.9823 - val_mean_absolute_error: 5.1725\n",
            "Epoch 45/50\n",
            "20/20 [==============================] - 1s 43ms/step - loss: 39.5899 - mean_absolute_error: 5.0441 - val_loss: 36.0632 - val_mean_absolute_error: 5.1850\n",
            "Epoch 46/50\n",
            "20/20 [==============================] - 1s 48ms/step - loss: 41.1306 - mean_absolute_error: 5.1259 - val_loss: 36.0895 - val_mean_absolute_error: 5.1947\n",
            "Epoch 47/50\n",
            "20/20 [==============================] - 1s 44ms/step - loss: 40.1437 - mean_absolute_error: 5.1354 - val_loss: 35.6608 - val_mean_absolute_error: 5.1921\n",
            "Epoch 48/50\n",
            "20/20 [==============================] - 1s 42ms/step - loss: 43.5545 - mean_absolute_error: 5.3029 - val_loss: 35.7609 - val_mean_absolute_error: 5.2029\n",
            "Epoch 49/50\n",
            "20/20 [==============================] - 1s 43ms/step - loss: 41.7803 - mean_absolute_error: 5.2768 - val_loss: 35.8018 - val_mean_absolute_error: 5.2138\n",
            "Epoch 50/50\n",
            "20/20 [==============================] - 1s 51ms/step - loss: 40.1026 - mean_absolute_error: 5.1872 - val_loss: 35.8976 - val_mean_absolute_error: 5.2236\n"
          ]
        },
        {
          "output_type": "execute_result",
          "data": {
            "text/plain": [
              "<keras.src.callbacks.History at 0x7cbb4865ed10>"
            ]
          },
          "metadata": {},
          "execution_count": 72
        }
      ]
    },
    {
      "cell_type": "code",
      "source": [
        "loss, mean_absolute_error = model.evaluate(X_test, Y_test)\n",
        "print(f\"Test Loss: {loss}, Test Mean Absolute Error: {mean_absolute_error}\")"
      ],
      "metadata": {
        "colab": {
          "base_uri": "https://localhost:8080/"
        },
        "id": "_9JS_d_jZ5AX",
        "outputId": "ceb3560d-82a8-4227-8c91-6dd2783a8524"
      },
      "execution_count": null,
      "outputs": [
        {
          "output_type": "stream",
          "name": "stdout",
          "text": [
            "2/2 [==============================] - 0s 13ms/step - loss: 35.8976 - mean_absolute_error: 5.2236\n",
            "Test Loss: 35.897621154785156, Test Mean Absolute Error: 5.223595142364502\n"
          ]
        }
      ]
    },
    {
      "cell_type": "code",
      "source": [
        "y_pred = model.predict(X_test)"
      ],
      "metadata": {
        "id": "exTBGToQbQ1O"
      },
      "execution_count": null,
      "outputs": []
    },
    {
      "cell_type": "code",
      "source": [
        "print(np.sqrt(mean_squared_error(Y_test,y_pred)))"
      ],
      "metadata": {
        "colab": {
          "base_uri": "https://localhost:8080/"
        },
        "id": "8bEhSzLObYur",
        "outputId": "1e9d527f-5902-4843-8b7f-ca118f299f39"
      },
      "execution_count": null,
      "outputs": [
        {
          "output_type": "stream",
          "name": "stdout",
          "text": [
            "5.991462230676506\n"
          ]
        }
      ]
    },
    {
      "cell_type": "code",
      "source": [
        "model.save(\"model_text_regression1.keras\")"
      ],
      "metadata": {
        "id": "VwT1gL3obaOy"
      },
      "execution_count": null,
      "outputs": []
    },
    {
      "cell_type": "code",
      "source": [],
      "metadata": {
        "id": "Z_uiKb5jaM8Q"
      },
      "execution_count": null,
      "outputs": []
    }
  ]
}