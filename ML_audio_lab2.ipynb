{
  "nbformat": 4,
  "nbformat_minor": 0,
  "metadata": {
    "colab": {
      "provenance": []
    },
    "kernelspec": {
      "name": "python3",
      "display_name": "Python 3"
    },
    "language_info": {
      "name": "python"
    }
  },
  "cells": [
    {
      "cell_type": "code",
      "execution_count": 1,
      "metadata": {
        "id": "NvsUWDId5_iD"
      },
      "outputs": [],
      "source": [
        "import numpy as np\n",
        "import pandas as pd\n",
        "import wave\n",
        "import librosa\n",
        "import matplotlib.pyplot as plt\n",
        "from sklearn.metrics import confusion_matrix\n",
        "from sklearn.metrics import accuracy_score\n",
        "from keras.utils import to_categorical\n",
        "import seaborn as sns\n",
        "from tensorflow.keras.models import Sequential\n",
        "from tensorflow.keras.layers import Conv2D, MaxPooling2D, Dense, Flatten, Dropout, BatchNormalization\n",
        "from tensorflow.keras.optimizers import Adam, Adadelta, SGD, RMSprop\n",
        "from sklearn.metrics import classification_report, confusion_matrix, precision_score, recall_score, f1_score, mean_absolute_error, mean_squared_error"
      ]
    },
    {
      "cell_type": "code",
      "source": [
        "! pip install noisereduce"
      ],
      "metadata": {
        "id": "W7VypJdO_rWD"
      },
      "execution_count": null,
      "outputs": []
    },
    {
      "cell_type": "code",
      "source": [
        "import noisereduce as nr"
      ],
      "metadata": {
        "id": "yk78Ith9_l15"
      },
      "execution_count": 16,
      "outputs": []
    },
    {
      "cell_type": "code",
      "source": [
        "from google.colab import drive\n",
        "drive.mount('/content/drive', force_remount=True)\n",
        "%cd /content/drive/MyDrive/data_ml5/"
      ],
      "metadata": {
        "colab": {
          "base_uri": "https://localhost:8080/"
        },
        "id": "H8Ve7wqc77ex",
        "outputId": "13746fbd-f6b0-45d4-edc2-4c02d970482a"
      },
      "execution_count": 2,
      "outputs": [
        {
          "output_type": "stream",
          "name": "stdout",
          "text": [
            "Mounted at /content/drive\n",
            "/content/drive/MyDrive/data_ml5\n"
          ]
        }
      ]
    },
    {
      "cell_type": "code",
      "source": [
        "train_split_df = pd.read_csv('train_split_Depression_AVEC2017.csv')\n",
        "test_split_df = pd.read_csv('dev_split_Depression_AVEC2017.csv')"
      ],
      "metadata": {
        "id": "5sh35d0R6GHt"
      },
      "execution_count": 17,
      "outputs": []
    },
    {
      "cell_type": "code",
      "source": [
        "train_split_num = train_split_df[['Participant_ID']]['Participant_ID'].tolist()\n",
        "test_split_num = test_split_df[['Participant_ID']]['Participant_ID'].tolist()\n",
        "# train_split_clabel = train_split_df[['PHQ8_Binary']]['PHQ8_Binary'].tolist()\n",
        "# test_split_clabel = test_split_df[['PHQ8_Binary']]['PHQ8_Binary'].tolist()\n",
        "train_split_clabel = train_split_df[['PHQ8_Score']]['PHQ8_Score'].tolist()\n",
        "test_split_clabel = test_split_df[['PHQ8_Score']]['PHQ8_Score'].tolist()"
      ],
      "metadata": {
        "id": "58YVC4gk8Odq"
      },
      "execution_count": 20,
      "outputs": []
    },
    {
      "cell_type": "code",
      "source": [
        "def extract_features(number, audio_features, target, audio_targets, mode):\n",
        "    transcript = pd.read_csv('{0}_TRANSCRIPT.csv'.format(number), sep='\\t').fillna('')\n",
        "    global wave_data\n",
        "    global sr\n",
        "    wavefile = wave.open('{0}_AUDIO.wav'.format(number, 'r'))\n",
        "    sr = wavefile.getframerate()\n",
        "    nframes = wavefile.getnframes()\n",
        "\n",
        "    wave_data = np.frombuffer(wavefile.readframes(nframes), dtype=np.short)\n",
        "    reduced_noise = nr.reduce_noise(y=wave_data, sr=sr)\n",
        "    '''\n",
        "    plt.figure(figsize=(10, 4))\n",
        "    # time = np.linspace(0, nframes/sr, num=nframes)\n",
        "    time = np.arange(0, nframes) / sr\n",
        "    plt.plot(time, wave_data)\n",
        "    plt.title('Waveform of Audio File')\n",
        "    plt.xlabel('Time (s)')\n",
        "    plt.ylabel('Amplitude')\n",
        "    plt.show()\n",
        "    plt.figure(figsize=(10, 4))\n",
        "    # time = np.linspace(0, nframes/sr, num=nframes)\n",
        "    time = np.arange(0, nframes) / sr\n",
        "    plt.plot(time, reduced_noise)\n",
        "    plt.title('Waveform of Audio File')\n",
        "    plt.xlabel('Time (s)')\n",
        "    plt.ylabel('Amplitude')\n",
        "    plt.show()\n",
        "    '''\n",
        "    time_range = []\n",
        "    response = ''\n",
        "    response_flag = False\n",
        "    time_collect_flag = False\n",
        "    start_time = 0\n",
        "    stop_time = 0\n",
        "\n",
        "    signal = []\n",
        "\n",
        "    global counter_train\n",
        "\n",
        "    for t in transcript.itertuples():\n",
        "        if getattr(t,'speaker') == 'Ellie':\n",
        "            continue\n",
        "        elif getattr(t,'speaker') == 'Participant':\n",
        "            if 'scrubbed_entry' in getattr(t,'value'):\n",
        "                continue\n",
        "            start_time = int(getattr(t,'start_time')*sr)\n",
        "            stop_time = int(getattr(t,'stop_time')*sr)\n",
        "            signal = np.hstack((signal, reduced_noise[start_time:stop_time].astype(np.float64)))\n",
        "\n",
        "    clip = sr*15\n",
        "    # if target == 1 and mode == 'train':\n",
        "    if target >= 10 and mode == 'train':\n",
        "        times = 3 if counter_train < 48 else 2\n",
        "        for i in range(times):\n",
        "            if clip*(i+1) > len(signal):\n",
        "                continue\n",
        "            melspec = librosa.feature.melspectrogram(y=signal[clip*i:clip*(i+1)], n_mels=80,sr=sr)\n",
        "            audio_features.append(melspec)\n",
        "            audio_targets.append(target)\n",
        "            counter_train+=1\n",
        "\n",
        "    else:\n",
        "        melspec = librosa.feature.melspectrogram(y=signal[:clip], n_mels=80, sr=sr)\n",
        "        logspec = melspec\n",
        "        audio_features.append(logspec)\n",
        "        audio_targets.append(target)\n",
        "    print('{}_P feature done'.format(number))"
      ],
      "metadata": {
        "id": "ece4zVJ52NKm"
      },
      "execution_count": 21,
      "outputs": []
    },
    {
      "cell_type": "code",
      "source": [
        "counter_train = 0\n",
        "audio_features_train = []\n",
        "audio_ctargets_train = []\n",
        "\n",
        "audio_features_test = []\n",
        "audio_ctargets_test = []"
      ],
      "metadata": {
        "id": "ByE4YwD9xBYF"
      },
      "execution_count": 22,
      "outputs": []
    },
    {
      "cell_type": "code",
      "source": [
        "for index in range(len(train_split_num)):\n",
        "    extract_features(train_split_num[index], audio_features_train, train_split_clabel[index], audio_ctargets_train, 'train')"
      ],
      "metadata": {
        "colab": {
          "base_uri": "https://localhost:8080/"
        },
        "id": "H7cB79t3OKwc",
        "outputId": "50779bd2-66ce-46fb-a233-411ed3110ac5"
      },
      "execution_count": 23,
      "outputs": [
        {
          "output_type": "stream",
          "name": "stdout",
          "text": [
            "303_P feature done\n",
            "304_P feature done\n",
            "305_P feature done\n",
            "310_P feature done\n",
            "312_P feature done\n",
            "313_P feature done\n",
            "315_P feature done\n",
            "316_P feature done\n",
            "317_P feature done\n",
            "318_P feature done\n",
            "319_P feature done\n",
            "320_P feature done\n",
            "321_P feature done\n",
            "322_P feature done\n",
            "324_P feature done\n",
            "325_P feature done\n",
            "326_P feature done\n",
            "327_P feature done\n",
            "328_P feature done\n",
            "330_P feature done\n",
            "333_P feature done\n",
            "336_P feature done\n",
            "338_P feature done\n",
            "339_P feature done\n",
            "340_P feature done\n",
            "341_P feature done\n",
            "343_P feature done\n",
            "344_P feature done\n",
            "345_P feature done\n",
            "347_P feature done\n",
            "348_P feature done\n",
            "350_P feature done\n",
            "351_P feature done\n",
            "352_P feature done\n",
            "353_P feature done\n",
            "355_P feature done\n",
            "356_P feature done\n",
            "357_P feature done\n",
            "358_P feature done\n",
            "360_P feature done\n",
            "362_P feature done\n",
            "363_P feature done\n",
            "364_P feature done\n",
            "366_P feature done\n",
            "368_P feature done\n",
            "369_P feature done\n",
            "370_P feature done\n",
            "371_P feature done\n",
            "372_P feature done\n",
            "374_P feature done\n",
            "375_P feature done\n",
            "376_P feature done\n",
            "379_P feature done\n",
            "380_P feature done\n",
            "383_P feature done\n",
            "385_P feature done\n",
            "386_P feature done\n",
            "391_P feature done\n",
            "392_P feature done\n",
            "393_P feature done\n",
            "397_P feature done\n",
            "400_P feature done\n",
            "401_P feature done\n",
            "402_P feature done\n",
            "409_P feature done\n",
            "412_P feature done\n",
            "414_P feature done\n",
            "415_P feature done\n",
            "416_P feature done\n",
            "419_P feature done\n",
            "423_P feature done\n",
            "425_P feature done\n",
            "426_P feature done\n",
            "427_P feature done\n",
            "428_P feature done\n",
            "429_P feature done\n",
            "430_P feature done\n",
            "433_P feature done\n",
            "434_P feature done\n",
            "437_P feature done\n",
            "441_P feature done\n",
            "443_P feature done\n",
            "444_P feature done\n",
            "445_P feature done\n",
            "446_P feature done\n",
            "447_P feature done\n",
            "448_P feature done\n",
            "449_P feature done\n",
            "454_P feature done\n",
            "455_P feature done\n",
            "456_P feature done\n",
            "457_P feature done\n",
            "459_P feature done\n",
            "463_P feature done\n",
            "464_P feature done\n",
            "468_P feature done\n",
            "471_P feature done\n",
            "473_P feature done\n",
            "474_P feature done\n",
            "475_P feature done\n",
            "478_P feature done\n",
            "479_P feature done\n",
            "485_P feature done\n",
            "486_P feature done\n",
            "487_P feature done\n",
            "488_P feature done\n",
            "491_P feature done\n"
          ]
        }
      ]
    },
    {
      "cell_type": "code",
      "source": [
        "print(\"Count 0: \", audio_ctargets_train.count(0))\n",
        "print(\"Count 1: \", audio_ctargets_train.count(1))"
      ],
      "metadata": {
        "colab": {
          "base_uri": "https://localhost:8080/"
        },
        "id": "rFn5A86ZVz7h",
        "outputId": "2f8811c6-6b73-4591-e445-bef12b0b708c"
      },
      "execution_count": 221,
      "outputs": [
        {
          "output_type": "stream",
          "name": "stdout",
          "text": [
            "Count 0:  77\n",
            "Count 1:  76\n"
          ]
        }
      ]
    },
    {
      "cell_type": "code",
      "source": [
        "for index in range(len(test_split_num)):\n",
        "    extract_features(test_split_num[index], audio_features_test, test_split_clabel[index], audio_ctargets_test, 'test')"
      ],
      "metadata": {
        "colab": {
          "base_uri": "https://localhost:8080/"
        },
        "id": "CHpqbcFdhqEy",
        "outputId": "5dcc8002-67f7-4e51-86ea-db26c8521b71"
      },
      "execution_count": 24,
      "outputs": [
        {
          "output_type": "stream",
          "name": "stdout",
          "text": [
            "302_P feature done\n",
            "307_P feature done\n",
            "331_P feature done\n",
            "335_P feature done\n",
            "346_P feature done\n",
            "367_P feature done\n",
            "377_P feature done\n",
            "381_P feature done\n",
            "382_P feature done\n",
            "388_P feature done\n",
            "389_P feature done\n",
            "390_P feature done\n",
            "395_P feature done\n",
            "403_P feature done\n",
            "404_P feature done\n",
            "406_P feature done\n",
            "413_P feature done\n",
            "417_P feature done\n",
            "418_P feature done\n",
            "420_P feature done\n",
            "422_P feature done\n",
            "436_P feature done\n",
            "439_P feature done\n",
            "440_P feature done\n",
            "451_P feature done\n",
            "458_P feature done\n",
            "472_P feature done\n",
            "476_P feature done\n",
            "477_P feature done\n",
            "482_P feature done\n",
            "483_P feature done\n",
            "484_P feature done\n",
            "489_P feature done\n",
            "490_P feature done\n",
            "492_P feature done\n"
          ]
        }
      ]
    },
    {
      "cell_type": "code",
      "source": [
        "np.savez('lab2/train_samples_reg_lab2_1.npz', audio_features_train)\n",
        "np.savez('lab2/test_samples_reg_lab2_1.npz', audio_features_test)\n",
        "np.savez('lab2/train_labels_reg_lab2_1.npz', audio_ctargets_train)\n",
        "np.savez('lab2/test_labels_reg_lab2_1.npz', audio_ctargets_test)"
      ],
      "metadata": {
        "id": "D02NRjJ_rnBa"
      },
      "execution_count": 31,
      "outputs": []
    },
    {
      "cell_type": "code",
      "source": [
        "np.savez('lab2/train_samples_cla_lab2_1.npz', audio_features_train)\n",
        "np.savez('lab2/test_samples_cla_lab2_1.npz', audio_features_test)\n",
        "np.savez('lab2/train_labels_cla_lab2_1.npz', audio_ctargets_train)\n",
        "np.savez('lab2/test_labels_cla_lab2_1.npz', audio_ctargets_test)"
      ],
      "metadata": {
        "id": "xlBci9lRRWO9"
      },
      "execution_count": 352,
      "outputs": []
    },
    {
      "cell_type": "markdown",
      "source": [
        "## classification"
      ],
      "metadata": {
        "id": "A7iXuJuCrudU"
      }
    },
    {
      "cell_type": "code",
      "source": [
        "features_train = np.load('lab2/train_samples_cla_lab2_1.npz', allow_pickle=True)['arr_0']\n",
        "features_test = np.load('lab2/test_samples_cla_lab2_1.npz', allow_pickle=True)['arr_0']\n",
        "targets_train = np.load('lab2/train_labels_cla_lab2_1.npz', allow_pickle=True)['arr_0']\n",
        "ctargets_test = np.load('lab2/test_labels_cla_lab2_1.npz', allow_pickle=True)['arr_0']"
      ],
      "metadata": {
        "id": "Zg0_7m9ZRE9M"
      },
      "execution_count": 3,
      "outputs": []
    },
    {
      "cell_type": "code",
      "source": [
        "X_train = np.array(features_train)\n",
        "Y_train = np.array(targets_train)\n",
        "X_test = np.array(features_test)\n",
        "Y_test = np.array(ctargets_test)\n",
        "X_train = np.array([(X - X.min()) / (X.max() - X.min()) for X in X_train])\n",
        "X_test = np.array([(X - X.min()) / (X.max() - X.min()) for X in X_test])\n",
        "print(X_train.shape)\n",
        "print(Y_train.shape)\n",
        "print(X_test.shape)\n",
        "print(Y_test.shape)"
      ],
      "metadata": {
        "colab": {
          "base_uri": "https://localhost:8080/"
        },
        "id": "fkjMt1kEVQX2",
        "outputId": "03dfce5e-a977-4732-a49c-762f7954c85b"
      },
      "execution_count": 4,
      "outputs": [
        {
          "output_type": "stream",
          "name": "stdout",
          "text": [
            "(153, 80, 469)\n",
            "(153,)\n",
            "(35, 80, 469)\n",
            "(35,)\n"
          ]
        }
      ]
    },
    {
      "cell_type": "code",
      "source": [
        "train_y = to_categorical(Y_train)\n",
        "test_y = to_categorical(Y_test)"
      ],
      "metadata": {
        "id": "xZe0ITxVjbl9"
      },
      "execution_count": 5,
      "outputs": []
    },
    {
      "cell_type": "code",
      "source": [
        "input_shape = (80, 469, 1)\n",
        "\n",
        "model = Sequential()\n",
        "model.add(Conv2D(32, (1, 7), activation='relu', input_shape=input_shape))\n",
        "model.add(MaxPooling2D(pool_size=(4, 3), strides=(1, 3)))\n",
        "model.add(Conv2D(32, (1, 7), activation='relu'))\n",
        "model.add(MaxPooling2D(pool_size=(1, 3), strides=(1, 3)))\n",
        "model.add(Flatten())\n",
        "model.add(Dense(128, activation='relu'))\n",
        "model.add(Dense(128, activation='relu'))\n",
        "model.add(Dropout(0.5))\n",
        "model.add(Dense(2, activation='softmax'))\n",
        "\n",
        "model.compile(optimizer=Adadelta(learning_rate=0.01), loss='categorical_crossentropy', metrics=['accuracy'])"
      ],
      "metadata": {
        "id": "Z9gudPhrjftM"
      },
      "execution_count": 13,
      "outputs": []
    },
    {
      "cell_type": "code",
      "source": [
        "history = model.fit(X_train, train_y, batch_size=4, epochs=30)"
      ],
      "metadata": {
        "colab": {
          "base_uri": "https://localhost:8080/"
        },
        "id": "abQftdB0jiCK",
        "outputId": "a13a2f9a-d65b-4acf-a657-097c56ccb017"
      },
      "execution_count": 14,
      "outputs": [
        {
          "output_type": "stream",
          "name": "stdout",
          "text": [
            "Epoch 1/30\n",
            "39/39 [==============================] - 2s 12ms/step - loss: 0.6929 - accuracy: 0.5098\n",
            "Epoch 2/30\n",
            "39/39 [==============================] - 0s 11ms/step - loss: 0.6908 - accuracy: 0.6667\n",
            "Epoch 3/30\n",
            "39/39 [==============================] - 0s 10ms/step - loss: 0.6895 - accuracy: 0.6601\n",
            "Epoch 4/30\n",
            "39/39 [==============================] - 0s 11ms/step - loss: 0.6863 - accuracy: 0.7712\n",
            "Epoch 5/30\n",
            "39/39 [==============================] - 0s 10ms/step - loss: 0.6842 - accuracy: 0.7451\n",
            "Epoch 6/30\n",
            "39/39 [==============================] - 0s 11ms/step - loss: 0.6808 - accuracy: 0.7778\n",
            "Epoch 7/30\n",
            "39/39 [==============================] - 0s 10ms/step - loss: 0.6771 - accuracy: 0.7320\n",
            "Epoch 8/30\n",
            "39/39 [==============================] - 0s 11ms/step - loss: 0.6722 - accuracy: 0.8039\n",
            "Epoch 9/30\n",
            "39/39 [==============================] - 0s 10ms/step - loss: 0.6689 - accuracy: 0.8039\n",
            "Epoch 10/30\n",
            "39/39 [==============================] - 0s 10ms/step - loss: 0.6653 - accuracy: 0.7451\n",
            "Epoch 11/30\n",
            "39/39 [==============================] - 0s 10ms/step - loss: 0.6585 - accuracy: 0.7712\n",
            "Epoch 12/30\n",
            "39/39 [==============================] - 0s 10ms/step - loss: 0.6544 - accuracy: 0.7778\n",
            "Epoch 13/30\n",
            "39/39 [==============================] - 0s 10ms/step - loss: 0.6514 - accuracy: 0.7582\n",
            "Epoch 14/30\n",
            "39/39 [==============================] - 0s 10ms/step - loss: 0.6383 - accuracy: 0.8105\n",
            "Epoch 15/30\n",
            "39/39 [==============================] - 0s 11ms/step - loss: 0.6314 - accuracy: 0.8366\n",
            "Epoch 16/30\n",
            "39/39 [==============================] - 0s 11ms/step - loss: 0.6227 - accuracy: 0.8039\n",
            "Epoch 17/30\n",
            "39/39 [==============================] - 0s 11ms/step - loss: 0.6171 - accuracy: 0.8301\n",
            "Epoch 18/30\n",
            "39/39 [==============================] - 0s 11ms/step - loss: 0.6111 - accuracy: 0.7843\n",
            "Epoch 19/30\n",
            "39/39 [==============================] - 0s 11ms/step - loss: 0.6032 - accuracy: 0.7778\n",
            "Epoch 20/30\n",
            "39/39 [==============================] - 0s 11ms/step - loss: 0.5858 - accuracy: 0.8366\n",
            "Epoch 21/30\n",
            "39/39 [==============================] - 0s 11ms/step - loss: 0.5705 - accuracy: 0.8301\n",
            "Epoch 22/30\n",
            "39/39 [==============================] - 0s 11ms/step - loss: 0.5694 - accuracy: 0.8039\n",
            "Epoch 23/30\n",
            "39/39 [==============================] - 0s 12ms/step - loss: 0.5546 - accuracy: 0.8431\n",
            "Epoch 24/30\n",
            "39/39 [==============================] - 0s 11ms/step - loss: 0.5413 - accuracy: 0.7908\n",
            "Epoch 25/30\n",
            "39/39 [==============================] - 0s 12ms/step - loss: 0.5375 - accuracy: 0.8170\n",
            "Epoch 26/30\n",
            "39/39 [==============================] - 0s 12ms/step - loss: 0.5246 - accuracy: 0.8235\n",
            "Epoch 27/30\n",
            "39/39 [==============================] - 0s 12ms/step - loss: 0.5091 - accuracy: 0.8235\n",
            "Epoch 28/30\n",
            "39/39 [==============================] - 0s 11ms/step - loss: 0.4995 - accuracy: 0.8301\n",
            "Epoch 29/30\n",
            "39/39 [==============================] - 0s 10ms/step - loss: 0.4926 - accuracy: 0.8170\n",
            "Epoch 30/30\n",
            "39/39 [==============================] - 0s 10ms/step - loss: 0.4705 - accuracy: 0.8758\n"
          ]
        }
      ]
    },
    {
      "cell_type": "code",
      "source": [
        "y_pred = model.predict(X_test)\n",
        "predicted_1 = [1 if x[1] > x[0] else 0 for x in y_pred]\n",
        "print(classification_report(Y_test, predicted_1))"
      ],
      "metadata": {
        "colab": {
          "base_uri": "https://localhost:8080/"
        },
        "id": "Pihcn4Ufko0T",
        "outputId": "63e8ed79-9152-47bf-cb61-72d88ced075c"
      },
      "execution_count": 183,
      "outputs": [
        {
          "output_type": "stream",
          "name": "stdout",
          "text": [
            "2/2 [==============================] - 0s 10ms/step\n",
            "              precision    recall  f1-score   support\n",
            "\n",
            "         0.0       0.90      0.78      0.84        23\n",
            "         1.0       0.67      0.83      0.74        12\n",
            "\n",
            "    accuracy                           0.80        35\n",
            "   macro avg       0.78      0.81      0.79        35\n",
            "weighted avg       0.82      0.80      0.80        35\n",
            "\n"
          ]
        }
      ]
    },
    {
      "cell_type": "markdown",
      "source": [
        "\n",
        "\n",
        "---\n",
        "\n",
        "\n",
        "\n",
        "---\n",
        "\n"
      ],
      "metadata": {
        "id": "NNTu32-S4wbW"
      }
    },
    {
      "cell_type": "markdown",
      "source": [
        "## regression"
      ],
      "metadata": {
        "id": "V8tb5B6NrzIf"
      }
    },
    {
      "cell_type": "code",
      "source": [
        "features_train = np.load('lab2/train_samples_reg_lab2_1.npz', allow_pickle=True)['arr_0']\n",
        "features_test = np.load('lab2/test_samples_reg_lab2_1.npz', allow_pickle=True)['arr_0']\n",
        "targets_train = np.load('lab2/train_labels_reg_lab2_1.npz', allow_pickle=True)['arr_0']\n",
        "ctargets_test = np.load('lab2/test_labels_reg_lab2_1.npz', allow_pickle=True)['arr_0']"
      ],
      "metadata": {
        "id": "oi25RsIpryVy"
      },
      "execution_count": 32,
      "outputs": []
    },
    {
      "cell_type": "code",
      "source": [
        "X_train = np.array(features_train)\n",
        "Y_train = np.array(targets_train)\n",
        "X_test = np.array(features_test)\n",
        "Y_test = np.array(ctargets_test)\n",
        "X_train = np.array([(X - X.min()) / (X.max() - X.min()) for X in X_train])\n",
        "X_test = np.array([(X - X.min()) / (X.max() - X.min()) for X in X_test])\n",
        "print(X_train.shape)\n",
        "print(Y_train.shape)\n",
        "print(X_test.shape)\n",
        "print(Y_test.shape)"
      ],
      "metadata": {
        "colab": {
          "base_uri": "https://localhost:8080/"
        },
        "id": "4VP6NVdssIxk",
        "outputId": "4651a563-079f-47bc-8443-9a0c11171e38"
      },
      "execution_count": 33,
      "outputs": [
        {
          "output_type": "stream",
          "name": "stdout",
          "text": [
            "(154, 80, 469)\n",
            "(154,)\n",
            "(35, 80, 469)\n",
            "(35,)\n"
          ]
        }
      ]
    },
    {
      "cell_type": "code",
      "source": [
        "input_shape = (80, 469, 1)\n",
        "\n",
        "model = Sequential()\n",
        "model.add(Conv2D(32, (1, 7), activation='relu', input_shape=input_shape))\n",
        "model.add(MaxPooling2D(pool_size=(4, 3), strides=(1, 3)))\n",
        "model.add(Conv2D(32, (1, 7), activation='relu'))\n",
        "model.add(MaxPooling2D(pool_size=(1, 3), strides=(1, 3)))\n",
        "model.add(Flatten())\n",
        "model.add(Dense(128, activation='relu'))\n",
        "model.add(Dense(128, activation='relu'))\n",
        "model.add(Dropout(0.5))\n",
        "model.add(Dense(1, activation='linear'))\n",
        "\n",
        "model.compile(optimizer=Adadelta(learning_rate=0.1), loss='mean_squared_error', metrics=['mean_absolute_error'])\n",
        "\n",
        "history = model.fit(X_train, Y_train, epochs=30, validation_data=(X_test, Y_test), batch_size=4)\n",
        "\n",
        "loss, mean_absolute_error = model.evaluate(X_test, Y_test)\n",
        "print(f\"Test Loss: {loss}, Test Mean Absolute Error: {mean_absolute_error}\")"
      ],
      "metadata": {
        "colab": {
          "base_uri": "https://localhost:8080/"
        },
        "id": "A7LahAGRsQRg",
        "outputId": "4bb53aa7-80c2-445b-b485-bd15aa47f521"
      },
      "execution_count": 35,
      "outputs": [
        {
          "output_type": "stream",
          "name": "stdout",
          "text": [
            "Epoch 1/30\n",
            "39/39 [==============================] - 3s 17ms/step - loss: 55.9505 - mean_absolute_error: 5.9876 - val_loss: 45.0519 - val_mean_absolute_error: 5.5374\n",
            "Epoch 2/30\n",
            "39/39 [==============================] - 0s 11ms/step - loss: 38.3315 - mean_absolute_error: 5.2370 - val_loss: 45.0936 - val_mean_absolute_error: 5.9083\n",
            "Epoch 3/30\n",
            "39/39 [==============================] - 0s 11ms/step - loss: 40.4764 - mean_absolute_error: 5.1516 - val_loss: 44.2341 - val_mean_absolute_error: 5.8439\n",
            "Epoch 4/30\n",
            "39/39 [==============================] - 0s 13ms/step - loss: 36.5719 - mean_absolute_error: 4.9079 - val_loss: 47.7157 - val_mean_absolute_error: 6.1749\n",
            "Epoch 5/30\n",
            "39/39 [==============================] - 1s 14ms/step - loss: 33.9918 - mean_absolute_error: 4.7934 - val_loss: 40.6399 - val_mean_absolute_error: 5.2940\n",
            "Epoch 6/30\n",
            "39/39 [==============================] - 1s 15ms/step - loss: 33.6480 - mean_absolute_error: 4.8212 - val_loss: 48.4768 - val_mean_absolute_error: 6.2121\n",
            "Epoch 7/30\n",
            "39/39 [==============================] - 0s 11ms/step - loss: 29.6753 - mean_absolute_error: 4.5318 - val_loss: 38.3976 - val_mean_absolute_error: 5.4086\n",
            "Epoch 8/30\n",
            "39/39 [==============================] - 1s 13ms/step - loss: 25.8899 - mean_absolute_error: 4.1960 - val_loss: 34.6124 - val_mean_absolute_error: 4.9944\n",
            "Epoch 9/30\n",
            "39/39 [==============================] - 1s 14ms/step - loss: 25.5741 - mean_absolute_error: 4.0771 - val_loss: 33.5996 - val_mean_absolute_error: 4.9718\n",
            "Epoch 10/30\n",
            "39/39 [==============================] - 1s 13ms/step - loss: 21.2893 - mean_absolute_error: 3.6746 - val_loss: 33.1413 - val_mean_absolute_error: 4.8598\n",
            "Epoch 11/30\n",
            "39/39 [==============================] - 1s 14ms/step - loss: 19.4269 - mean_absolute_error: 3.5864 - val_loss: 43.3788 - val_mean_absolute_error: 5.5208\n",
            "Epoch 12/30\n",
            "39/39 [==============================] - 1s 13ms/step - loss: 19.0671 - mean_absolute_error: 3.4071 - val_loss: 33.3961 - val_mean_absolute_error: 4.9590\n",
            "Epoch 13/30\n",
            "39/39 [==============================] - 1s 14ms/step - loss: 16.8785 - mean_absolute_error: 3.2401 - val_loss: 33.5374 - val_mean_absolute_error: 4.9067\n",
            "Epoch 14/30\n",
            "39/39 [==============================] - 1s 14ms/step - loss: 14.5839 - mean_absolute_error: 2.9221 - val_loss: 33.2723 - val_mean_absolute_error: 4.9599\n",
            "Epoch 15/30\n",
            "39/39 [==============================] - 1s 14ms/step - loss: 12.7265 - mean_absolute_error: 2.7225 - val_loss: 35.4070 - val_mean_absolute_error: 5.0916\n",
            "Epoch 16/30\n",
            "39/39 [==============================] - 1s 14ms/step - loss: 12.0367 - mean_absolute_error: 2.6290 - val_loss: 33.6686 - val_mean_absolute_error: 4.8034\n",
            "Epoch 17/30\n",
            "39/39 [==============================] - 1s 14ms/step - loss: 11.8273 - mean_absolute_error: 2.6515 - val_loss: 42.9368 - val_mean_absolute_error: 5.6192\n",
            "Epoch 18/30\n",
            "39/39 [==============================] - 1s 14ms/step - loss: 11.5053 - mean_absolute_error: 2.6068 - val_loss: 32.9313 - val_mean_absolute_error: 4.7584\n",
            "Epoch 19/30\n",
            "39/39 [==============================] - 0s 11ms/step - loss: 11.2207 - mean_absolute_error: 2.4986 - val_loss: 33.1748 - val_mean_absolute_error: 4.9307\n",
            "Epoch 20/30\n",
            "39/39 [==============================] - 0s 12ms/step - loss: 8.7443 - mean_absolute_error: 2.1392 - val_loss: 31.1542 - val_mean_absolute_error: 4.6921\n",
            "Epoch 21/30\n",
            "39/39 [==============================] - 0s 11ms/step - loss: 9.3892 - mean_absolute_error: 2.2457 - val_loss: 30.7754 - val_mean_absolute_error: 4.7398\n",
            "Epoch 22/30\n",
            "39/39 [==============================] - 0s 12ms/step - loss: 9.6850 - mean_absolute_error: 2.2518 - val_loss: 33.1042 - val_mean_absolute_error: 4.9600\n",
            "Epoch 23/30\n",
            "39/39 [==============================] - 0s 12ms/step - loss: 6.3399 - mean_absolute_error: 1.7629 - val_loss: 30.3009 - val_mean_absolute_error: 4.5981\n",
            "Epoch 24/30\n",
            "39/39 [==============================] - 0s 12ms/step - loss: 7.1298 - mean_absolute_error: 1.9903 - val_loss: 31.3447 - val_mean_absolute_error: 4.7531\n",
            "Epoch 25/30\n",
            "39/39 [==============================] - 0s 12ms/step - loss: 6.8487 - mean_absolute_error: 1.9543 - val_loss: 32.0871 - val_mean_absolute_error: 4.8273\n",
            "Epoch 26/30\n",
            "39/39 [==============================] - 0s 11ms/step - loss: 5.5853 - mean_absolute_error: 1.7502 - val_loss: 32.0807 - val_mean_absolute_error: 4.9028\n",
            "Epoch 27/30\n",
            "39/39 [==============================] - 0s 11ms/step - loss: 6.3999 - mean_absolute_error: 1.8008 - val_loss: 32.1267 - val_mean_absolute_error: 4.8337\n",
            "Epoch 28/30\n",
            "39/39 [==============================] - 0s 11ms/step - loss: 5.9807 - mean_absolute_error: 1.8106 - val_loss: 35.2374 - val_mean_absolute_error: 5.0744\n",
            "Epoch 29/30\n",
            "39/39 [==============================] - 0s 12ms/step - loss: 6.6178 - mean_absolute_error: 1.8464 - val_loss: 35.0949 - val_mean_absolute_error: 5.0890\n",
            "Epoch 30/30\n",
            "39/39 [==============================] - 0s 11ms/step - loss: 4.2688 - mean_absolute_error: 1.5653 - val_loss: 30.9616 - val_mean_absolute_error: 4.6950\n",
            "2/2 [==============================] - 0s 9ms/step - loss: 30.9616 - mean_absolute_error: 4.6950\n",
            "Test Loss: 30.961585998535156, Test Mean Absolute Error: 4.695000171661377\n"
          ]
        }
      ]
    },
    {
      "cell_type": "code",
      "source": [
        "y_pred = model.predict(X_test)\n",
        "print(\"RMSE = \", np.sqrt(mean_squared_error(Y_test,y_pred)))"
      ],
      "metadata": {
        "colab": {
          "base_uri": "https://localhost:8080/"
        },
        "id": "ZW2YzfX0snwQ",
        "outputId": "c56bbccd-c71e-49e7-f8d7-ee7e0b0386a6"
      },
      "execution_count": 36,
      "outputs": [
        {
          "output_type": "stream",
          "name": "stdout",
          "text": [
            "2/2 [==============================] - 0s 12ms/step\n",
            "RMSE =  5.564313440193498\n"
          ]
        }
      ]
    }
  ]
}